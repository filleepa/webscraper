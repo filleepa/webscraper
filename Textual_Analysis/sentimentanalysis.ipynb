{
 "cells": [
  {
   "cell_type": "code",
   "execution_count": 1,
   "id": "4520ab05",
   "metadata": {},
   "outputs": [
    {
     "name": "stderr",
     "output_type": "stream",
     "text": [
      "[nltk_data] Downloading collection 'all'\n",
      "[nltk_data]    | \n",
      "[nltk_data]    | Downloading package abc to\n",
      "[nltk_data]    |     C:\\Users\\Philippa\\AppData\\Roaming\\nltk_data...\n",
      "[nltk_data]    |   Package abc is already up-to-date!\n",
      "[nltk_data]    | Downloading package alpino to\n",
      "[nltk_data]    |     C:\\Users\\Philippa\\AppData\\Roaming\\nltk_data...\n",
      "[nltk_data]    |   Package alpino is already up-to-date!\n",
      "[nltk_data]    | Downloading package averaged_perceptron_tagger to\n",
      "[nltk_data]    |     C:\\Users\\Philippa\\AppData\\Roaming\\nltk_data...\n",
      "[nltk_data]    |   Package averaged_perceptron_tagger is already up-\n",
      "[nltk_data]    |       to-date!\n",
      "[nltk_data]    | Downloading package averaged_perceptron_tagger_eng to\n",
      "[nltk_data]    |     C:\\Users\\Philippa\\AppData\\Roaming\\nltk_data...\n",
      "[nltk_data]    |   Package averaged_perceptron_tagger_eng is already\n",
      "[nltk_data]    |       up-to-date!\n",
      "[nltk_data]    | Downloading package averaged_perceptron_tagger_ru to\n",
      "[nltk_data]    |     C:\\Users\\Philippa\\AppData\\Roaming\\nltk_data...\n",
      "[nltk_data]    |   Package averaged_perceptron_tagger_ru is already\n",
      "[nltk_data]    |       up-to-date!\n",
      "[nltk_data]    | Downloading package averaged_perceptron_tagger_rus to\n",
      "[nltk_data]    |     C:\\Users\\Philippa\\AppData\\Roaming\\nltk_data...\n",
      "[nltk_data]    |   Package averaged_perceptron_tagger_rus is already\n",
      "[nltk_data]    |       up-to-date!\n",
      "[nltk_data]    | Downloading package basque_grammars to\n",
      "[nltk_data]    |     C:\\Users\\Philippa\\AppData\\Roaming\\nltk_data...\n",
      "[nltk_data]    |   Package basque_grammars is already up-to-date!\n",
      "[nltk_data]    | Downloading package bcp47 to\n",
      "[nltk_data]    |     C:\\Users\\Philippa\\AppData\\Roaming\\nltk_data...\n",
      "[nltk_data]    |   Package bcp47 is already up-to-date!\n",
      "[nltk_data]    | Downloading package biocreative_ppi to\n",
      "[nltk_data]    |     C:\\Users\\Philippa\\AppData\\Roaming\\nltk_data...\n",
      "[nltk_data]    |   Package biocreative_ppi is already up-to-date!\n",
      "[nltk_data]    | Downloading package bllip_wsj_no_aux to\n",
      "[nltk_data]    |     C:\\Users\\Philippa\\AppData\\Roaming\\nltk_data...\n",
      "[nltk_data]    |   Package bllip_wsj_no_aux is already up-to-date!\n",
      "[nltk_data]    | Downloading package book_grammars to\n",
      "[nltk_data]    |     C:\\Users\\Philippa\\AppData\\Roaming\\nltk_data...\n",
      "[nltk_data]    |   Package book_grammars is already up-to-date!\n",
      "[nltk_data]    | Downloading package brown to\n",
      "[nltk_data]    |     C:\\Users\\Philippa\\AppData\\Roaming\\nltk_data...\n",
      "[nltk_data]    |   Package brown is already up-to-date!\n",
      "[nltk_data]    | Downloading package brown_tei to\n",
      "[nltk_data]    |     C:\\Users\\Philippa\\AppData\\Roaming\\nltk_data...\n",
      "[nltk_data]    |   Package brown_tei is already up-to-date!\n",
      "[nltk_data]    | Downloading package cess_cat to\n",
      "[nltk_data]    |     C:\\Users\\Philippa\\AppData\\Roaming\\nltk_data...\n",
      "[nltk_data]    |   Package cess_cat is already up-to-date!\n",
      "[nltk_data]    | Downloading package cess_esp to\n",
      "[nltk_data]    |     C:\\Users\\Philippa\\AppData\\Roaming\\nltk_data...\n",
      "[nltk_data]    |   Package cess_esp is already up-to-date!\n",
      "[nltk_data]    | Downloading package chat80 to\n",
      "[nltk_data]    |     C:\\Users\\Philippa\\AppData\\Roaming\\nltk_data...\n",
      "[nltk_data]    |   Package chat80 is already up-to-date!\n",
      "[nltk_data]    | Downloading package city_database to\n",
      "[nltk_data]    |     C:\\Users\\Philippa\\AppData\\Roaming\\nltk_data...\n",
      "[nltk_data]    |   Package city_database is already up-to-date!\n",
      "[nltk_data]    | Downloading package cmudict to\n",
      "[nltk_data]    |     C:\\Users\\Philippa\\AppData\\Roaming\\nltk_data...\n",
      "[nltk_data]    |   Package cmudict is already up-to-date!\n",
      "[nltk_data]    | Downloading package comparative_sentences to\n",
      "[nltk_data]    |     C:\\Users\\Philippa\\AppData\\Roaming\\nltk_data...\n",
      "[nltk_data]    |   Package comparative_sentences is already up-to-\n",
      "[nltk_data]    |       date!\n",
      "[nltk_data]    | Downloading package comtrans to\n",
      "[nltk_data]    |     C:\\Users\\Philippa\\AppData\\Roaming\\nltk_data...\n",
      "[nltk_data]    |   Package comtrans is already up-to-date!\n",
      "[nltk_data]    | Downloading package conll2000 to\n",
      "[nltk_data]    |     C:\\Users\\Philippa\\AppData\\Roaming\\nltk_data...\n",
      "[nltk_data]    |   Package conll2000 is already up-to-date!\n",
      "[nltk_data]    | Downloading package conll2002 to\n",
      "[nltk_data]    |     C:\\Users\\Philippa\\AppData\\Roaming\\nltk_data...\n",
      "[nltk_data]    |   Package conll2002 is already up-to-date!\n",
      "[nltk_data]    | Downloading package conll2007 to\n",
      "[nltk_data]    |     C:\\Users\\Philippa\\AppData\\Roaming\\nltk_data...\n",
      "[nltk_data]    |   Package conll2007 is already up-to-date!\n",
      "[nltk_data]    | Downloading package crubadan to\n",
      "[nltk_data]    |     C:\\Users\\Philippa\\AppData\\Roaming\\nltk_data...\n",
      "[nltk_data]    |   Package crubadan is already up-to-date!\n",
      "[nltk_data]    | Downloading package dependency_treebank to\n",
      "[nltk_data]    |     C:\\Users\\Philippa\\AppData\\Roaming\\nltk_data...\n",
      "[nltk_data]    |   Package dependency_treebank is already up-to-date!\n",
      "[nltk_data]    | Downloading package dolch to\n",
      "[nltk_data]    |     C:\\Users\\Philippa\\AppData\\Roaming\\nltk_data...\n",
      "[nltk_data]    |   Package dolch is already up-to-date!\n",
      "[nltk_data]    | Downloading package english_wordnet to\n",
      "[nltk_data]    |     C:\\Users\\Philippa\\AppData\\Roaming\\nltk_data...\n",
      "[nltk_data]    |   Package english_wordnet is already up-to-date!\n",
      "[nltk_data]    | Downloading package europarl_raw to\n",
      "[nltk_data]    |     C:\\Users\\Philippa\\AppData\\Roaming\\nltk_data...\n",
      "[nltk_data]    |   Package europarl_raw is already up-to-date!\n",
      "[nltk_data]    | Downloading package extended_omw to\n",
      "[nltk_data]    |     C:\\Users\\Philippa\\AppData\\Roaming\\nltk_data...\n",
      "[nltk_data]    |   Package extended_omw is already up-to-date!\n",
      "[nltk_data]    | Downloading package floresta to\n",
      "[nltk_data]    |     C:\\Users\\Philippa\\AppData\\Roaming\\nltk_data...\n",
      "[nltk_data]    |   Package floresta is already up-to-date!\n",
      "[nltk_data]    | Downloading package framenet_v15 to\n",
      "[nltk_data]    |     C:\\Users\\Philippa\\AppData\\Roaming\\nltk_data...\n",
      "[nltk_data]    |   Package framenet_v15 is already up-to-date!\n",
      "[nltk_data]    | Downloading package framenet_v17 to\n",
      "[nltk_data]    |     C:\\Users\\Philippa\\AppData\\Roaming\\nltk_data...\n",
      "[nltk_data]    |   Package framenet_v17 is already up-to-date!\n",
      "[nltk_data]    | Downloading package gazetteers to\n",
      "[nltk_data]    |     C:\\Users\\Philippa\\AppData\\Roaming\\nltk_data...\n",
      "[nltk_data]    |   Package gazetteers is already up-to-date!\n",
      "[nltk_data]    | Downloading package genesis to\n",
      "[nltk_data]    |     C:\\Users\\Philippa\\AppData\\Roaming\\nltk_data...\n",
      "[nltk_data]    |   Package genesis is already up-to-date!\n",
      "[nltk_data]    | Downloading package gutenberg to\n",
      "[nltk_data]    |     C:\\Users\\Philippa\\AppData\\Roaming\\nltk_data...\n",
      "[nltk_data]    |   Package gutenberg is already up-to-date!\n",
      "[nltk_data]    | Downloading package ieer to\n",
      "[nltk_data]    |     C:\\Users\\Philippa\\AppData\\Roaming\\nltk_data...\n",
      "[nltk_data]    |   Package ieer is already up-to-date!\n",
      "[nltk_data]    | Downloading package inaugural to\n",
      "[nltk_data]    |     C:\\Users\\Philippa\\AppData\\Roaming\\nltk_data...\n",
      "[nltk_data]    |   Package inaugural is already up-to-date!\n",
      "[nltk_data]    | Downloading package indian to\n",
      "[nltk_data]    |     C:\\Users\\Philippa\\AppData\\Roaming\\nltk_data...\n",
      "[nltk_data]    |   Package indian is already up-to-date!\n",
      "[nltk_data]    | Downloading package jeita to\n",
      "[nltk_data]    |     C:\\Users\\Philippa\\AppData\\Roaming\\nltk_data...\n",
      "[nltk_data]    |   Package jeita is already up-to-date!\n",
      "[nltk_data]    | Downloading package kimmo to\n",
      "[nltk_data]    |     C:\\Users\\Philippa\\AppData\\Roaming\\nltk_data...\n",
      "[nltk_data]    |   Package kimmo is already up-to-date!\n",
      "[nltk_data]    | Downloading package knbc to\n",
      "[nltk_data]    |     C:\\Users\\Philippa\\AppData\\Roaming\\nltk_data...\n",
      "[nltk_data]    |   Package knbc is already up-to-date!\n",
      "[nltk_data]    | Downloading package large_grammars to\n",
      "[nltk_data]    |     C:\\Users\\Philippa\\AppData\\Roaming\\nltk_data...\n",
      "[nltk_data]    |   Package large_grammars is already up-to-date!\n",
      "[nltk_data]    | Downloading package lin_thesaurus to\n",
      "[nltk_data]    |     C:\\Users\\Philippa\\AppData\\Roaming\\nltk_data...\n",
      "[nltk_data]    |   Package lin_thesaurus is already up-to-date!\n",
      "[nltk_data]    | Downloading package mac_morpho to\n",
      "[nltk_data]    |     C:\\Users\\Philippa\\AppData\\Roaming\\nltk_data...\n",
      "[nltk_data]    |   Package mac_morpho is already up-to-date!\n",
      "[nltk_data]    | Downloading package machado to\n",
      "[nltk_data]    |     C:\\Users\\Philippa\\AppData\\Roaming\\nltk_data...\n",
      "[nltk_data]    |   Package machado is already up-to-date!\n",
      "[nltk_data]    | Downloading package masc_tagged to\n",
      "[nltk_data]    |     C:\\Users\\Philippa\\AppData\\Roaming\\nltk_data...\n",
      "[nltk_data]    |   Package masc_tagged is already up-to-date!\n",
      "[nltk_data]    | Downloading package maxent_ne_chunker to\n",
      "[nltk_data]    |     C:\\Users\\Philippa\\AppData\\Roaming\\nltk_data...\n",
      "[nltk_data]    |   Package maxent_ne_chunker is already up-to-date!\n",
      "[nltk_data]    | Downloading package maxent_ne_chunker_tab to\n",
      "[nltk_data]    |     C:\\Users\\Philippa\\AppData\\Roaming\\nltk_data...\n",
      "[nltk_data]    |   Package maxent_ne_chunker_tab is already up-to-\n",
      "[nltk_data]    |       date!\n",
      "[nltk_data]    | Downloading package maxent_treebank_pos_tagger to\n",
      "[nltk_data]    |     C:\\Users\\Philippa\\AppData\\Roaming\\nltk_data...\n",
      "[nltk_data]    |   Package maxent_treebank_pos_tagger is already up-\n",
      "[nltk_data]    |       to-date!\n",
      "[nltk_data]    | Downloading package maxent_treebank_pos_tagger_tab to\n",
      "[nltk_data]    |     C:\\Users\\Philippa\\AppData\\Roaming\\nltk_data...\n",
      "[nltk_data]    |   Package maxent_treebank_pos_tagger_tab is already\n",
      "[nltk_data]    |       up-to-date!\n",
      "[nltk_data]    | Downloading package moses_sample to\n",
      "[nltk_data]    |     C:\\Users\\Philippa\\AppData\\Roaming\\nltk_data...\n",
      "[nltk_data]    |   Package moses_sample is already up-to-date!\n",
      "[nltk_data]    | Downloading package movie_reviews to\n",
      "[nltk_data]    |     C:\\Users\\Philippa\\AppData\\Roaming\\nltk_data...\n",
      "[nltk_data]    |   Package movie_reviews is already up-to-date!\n",
      "[nltk_data]    | Downloading package mte_teip5 to\n",
      "[nltk_data]    |     C:\\Users\\Philippa\\AppData\\Roaming\\nltk_data...\n",
      "[nltk_data]    |   Package mte_teip5 is already up-to-date!\n",
      "[nltk_data]    | Downloading package mwa_ppdb to\n",
      "[nltk_data]    |     C:\\Users\\Philippa\\AppData\\Roaming\\nltk_data...\n",
      "[nltk_data]    |   Package mwa_ppdb is already up-to-date!\n",
      "[nltk_data]    | Downloading package names to\n",
      "[nltk_data]    |     C:\\Users\\Philippa\\AppData\\Roaming\\nltk_data...\n",
      "[nltk_data]    |   Package names is already up-to-date!\n",
      "[nltk_data]    | Downloading package nombank.1.0 to\n",
      "[nltk_data]    |     C:\\Users\\Philippa\\AppData\\Roaming\\nltk_data...\n",
      "[nltk_data]    |   Package nombank.1.0 is already up-to-date!\n",
      "[nltk_data]    | Downloading package nonbreaking_prefixes to\n",
      "[nltk_data]    |     C:\\Users\\Philippa\\AppData\\Roaming\\nltk_data...\n",
      "[nltk_data]    |   Package nonbreaking_prefixes is already up-to-date!\n",
      "[nltk_data]    | Downloading package nps_chat to\n",
      "[nltk_data]    |     C:\\Users\\Philippa\\AppData\\Roaming\\nltk_data...\n",
      "[nltk_data]    |   Package nps_chat is already up-to-date!\n",
      "[nltk_data]    | Downloading package omw to\n",
      "[nltk_data]    |     C:\\Users\\Philippa\\AppData\\Roaming\\nltk_data...\n",
      "[nltk_data]    |   Package omw is already up-to-date!\n",
      "[nltk_data]    | Downloading package omw-1.4 to\n",
      "[nltk_data]    |     C:\\Users\\Philippa\\AppData\\Roaming\\nltk_data...\n",
      "[nltk_data]    |   Package omw-1.4 is already up-to-date!\n",
      "[nltk_data]    | Downloading package opinion_lexicon to\n",
      "[nltk_data]    |     C:\\Users\\Philippa\\AppData\\Roaming\\nltk_data...\n",
      "[nltk_data]    |   Package opinion_lexicon is already up-to-date!\n",
      "[nltk_data]    | Downloading package panlex_swadesh to\n",
      "[nltk_data]    |     C:\\Users\\Philippa\\AppData\\Roaming\\nltk_data...\n",
      "[nltk_data]    |   Package panlex_swadesh is already up-to-date!\n",
      "[nltk_data]    | Downloading package paradigms to\n",
      "[nltk_data]    |     C:\\Users\\Philippa\\AppData\\Roaming\\nltk_data...\n",
      "[nltk_data]    |   Package paradigms is already up-to-date!\n",
      "[nltk_data]    | Downloading package pe08 to\n",
      "[nltk_data]    |     C:\\Users\\Philippa\\AppData\\Roaming\\nltk_data...\n",
      "[nltk_data]    |   Package pe08 is already up-to-date!\n",
      "[nltk_data]    | Downloading package perluniprops to\n",
      "[nltk_data]    |     C:\\Users\\Philippa\\AppData\\Roaming\\nltk_data...\n",
      "[nltk_data]    |   Package perluniprops is already up-to-date!\n",
      "[nltk_data]    | Downloading package pil to\n",
      "[nltk_data]    |     C:\\Users\\Philippa\\AppData\\Roaming\\nltk_data...\n",
      "[nltk_data]    |   Package pil is already up-to-date!\n",
      "[nltk_data]    | Downloading package pl196x to\n",
      "[nltk_data]    |     C:\\Users\\Philippa\\AppData\\Roaming\\nltk_data...\n",
      "[nltk_data]    |   Package pl196x is already up-to-date!\n",
      "[nltk_data]    | Downloading package porter_test to\n",
      "[nltk_data]    |     C:\\Users\\Philippa\\AppData\\Roaming\\nltk_data...\n",
      "[nltk_data]    |   Package porter_test is already up-to-date!\n",
      "[nltk_data]    | Downloading package ppattach to\n",
      "[nltk_data]    |     C:\\Users\\Philippa\\AppData\\Roaming\\nltk_data...\n",
      "[nltk_data]    |   Package ppattach is already up-to-date!\n",
      "[nltk_data]    | Downloading package problem_reports to\n",
      "[nltk_data]    |     C:\\Users\\Philippa\\AppData\\Roaming\\nltk_data...\n",
      "[nltk_data]    |   Package problem_reports is already up-to-date!\n",
      "[nltk_data]    | Downloading package product_reviews_1 to\n",
      "[nltk_data]    |     C:\\Users\\Philippa\\AppData\\Roaming\\nltk_data...\n",
      "[nltk_data]    |   Package product_reviews_1 is already up-to-date!\n",
      "[nltk_data]    | Downloading package product_reviews_2 to\n",
      "[nltk_data]    |     C:\\Users\\Philippa\\AppData\\Roaming\\nltk_data...\n",
      "[nltk_data]    |   Package product_reviews_2 is already up-to-date!\n",
      "[nltk_data]    | Downloading package propbank to\n",
      "[nltk_data]    |     C:\\Users\\Philippa\\AppData\\Roaming\\nltk_data...\n",
      "[nltk_data]    |   Package propbank is already up-to-date!\n",
      "[nltk_data]    | Downloading package pros_cons to\n",
      "[nltk_data]    |     C:\\Users\\Philippa\\AppData\\Roaming\\nltk_data...\n",
      "[nltk_data]    |   Package pros_cons is already up-to-date!\n",
      "[nltk_data]    | Downloading package ptb to\n",
      "[nltk_data]    |     C:\\Users\\Philippa\\AppData\\Roaming\\nltk_data...\n",
      "[nltk_data]    |   Package ptb is already up-to-date!\n",
      "[nltk_data]    | Downloading package punkt to\n",
      "[nltk_data]    |     C:\\Users\\Philippa\\AppData\\Roaming\\nltk_data...\n",
      "[nltk_data]    |   Package punkt is already up-to-date!\n",
      "[nltk_data]    | Downloading package punkt_tab to\n",
      "[nltk_data]    |     C:\\Users\\Philippa\\AppData\\Roaming\\nltk_data...\n",
      "[nltk_data]    |   Package punkt_tab is already up-to-date!\n",
      "[nltk_data]    | Downloading package qc to\n",
      "[nltk_data]    |     C:\\Users\\Philippa\\AppData\\Roaming\\nltk_data...\n",
      "[nltk_data]    |   Package qc is already up-to-date!\n",
      "[nltk_data]    | Downloading package reuters to\n",
      "[nltk_data]    |     C:\\Users\\Philippa\\AppData\\Roaming\\nltk_data...\n",
      "[nltk_data]    |   Package reuters is already up-to-date!\n",
      "[nltk_data]    | Downloading package rslp to\n",
      "[nltk_data]    |     C:\\Users\\Philippa\\AppData\\Roaming\\nltk_data...\n",
      "[nltk_data]    |   Package rslp is already up-to-date!\n",
      "[nltk_data]    | Downloading package rte to\n",
      "[nltk_data]    |     C:\\Users\\Philippa\\AppData\\Roaming\\nltk_data...\n",
      "[nltk_data]    |   Package rte is already up-to-date!\n",
      "[nltk_data]    | Downloading package sample_grammars to\n",
      "[nltk_data]    |     C:\\Users\\Philippa\\AppData\\Roaming\\nltk_data...\n",
      "[nltk_data]    |   Package sample_grammars is already up-to-date!\n",
      "[nltk_data]    | Downloading package semcor to\n",
      "[nltk_data]    |     C:\\Users\\Philippa\\AppData\\Roaming\\nltk_data...\n",
      "[nltk_data]    |   Package semcor is already up-to-date!\n",
      "[nltk_data]    | Downloading package senseval to\n",
      "[nltk_data]    |     C:\\Users\\Philippa\\AppData\\Roaming\\nltk_data...\n",
      "[nltk_data]    |   Package senseval is already up-to-date!\n",
      "[nltk_data]    | Downloading package sentence_polarity to\n",
      "[nltk_data]    |     C:\\Users\\Philippa\\AppData\\Roaming\\nltk_data...\n",
      "[nltk_data]    |   Package sentence_polarity is already up-to-date!\n",
      "[nltk_data]    | Downloading package sentiwordnet to\n",
      "[nltk_data]    |     C:\\Users\\Philippa\\AppData\\Roaming\\nltk_data...\n",
      "[nltk_data]    |   Package sentiwordnet is already up-to-date!\n",
      "[nltk_data]    | Downloading package shakespeare to\n",
      "[nltk_data]    |     C:\\Users\\Philippa\\AppData\\Roaming\\nltk_data...\n",
      "[nltk_data]    |   Package shakespeare is already up-to-date!\n",
      "[nltk_data]    | Downloading package sinica_treebank to\n",
      "[nltk_data]    |     C:\\Users\\Philippa\\AppData\\Roaming\\nltk_data...\n",
      "[nltk_data]    |   Package sinica_treebank is already up-to-date!\n",
      "[nltk_data]    | Downloading package smultron to\n",
      "[nltk_data]    |     C:\\Users\\Philippa\\AppData\\Roaming\\nltk_data...\n",
      "[nltk_data]    |   Package smultron is already up-to-date!\n",
      "[nltk_data]    | Downloading package snowball_data to\n",
      "[nltk_data]    |     C:\\Users\\Philippa\\AppData\\Roaming\\nltk_data...\n",
      "[nltk_data]    |   Package snowball_data is already up-to-date!\n",
      "[nltk_data]    | Downloading package spanish_grammars to\n",
      "[nltk_data]    |     C:\\Users\\Philippa\\AppData\\Roaming\\nltk_data...\n",
      "[nltk_data]    |   Package spanish_grammars is already up-to-date!\n",
      "[nltk_data]    | Downloading package state_union to\n",
      "[nltk_data]    |     C:\\Users\\Philippa\\AppData\\Roaming\\nltk_data...\n",
      "[nltk_data]    |   Package state_union is already up-to-date!\n",
      "[nltk_data]    | Downloading package stopwords to\n",
      "[nltk_data]    |     C:\\Users\\Philippa\\AppData\\Roaming\\nltk_data...\n",
      "[nltk_data]    |   Package stopwords is already up-to-date!\n",
      "[nltk_data]    | Downloading package subjectivity to\n",
      "[nltk_data]    |     C:\\Users\\Philippa\\AppData\\Roaming\\nltk_data...\n",
      "[nltk_data]    |   Package subjectivity is already up-to-date!\n",
      "[nltk_data]    | Downloading package swadesh to\n",
      "[nltk_data]    |     C:\\Users\\Philippa\\AppData\\Roaming\\nltk_data...\n",
      "[nltk_data]    |   Package swadesh is already up-to-date!\n",
      "[nltk_data]    | Downloading package switchboard to\n",
      "[nltk_data]    |     C:\\Users\\Philippa\\AppData\\Roaming\\nltk_data...\n",
      "[nltk_data]    |   Package switchboard is already up-to-date!\n",
      "[nltk_data]    | Downloading package tagsets to\n",
      "[nltk_data]    |     C:\\Users\\Philippa\\AppData\\Roaming\\nltk_data...\n",
      "[nltk_data]    |   Package tagsets is already up-to-date!\n",
      "[nltk_data]    | Downloading package tagsets_json to\n",
      "[nltk_data]    |     C:\\Users\\Philippa\\AppData\\Roaming\\nltk_data...\n",
      "[nltk_data]    |   Package tagsets_json is already up-to-date!\n",
      "[nltk_data]    | Downloading package timit to\n",
      "[nltk_data]    |     C:\\Users\\Philippa\\AppData\\Roaming\\nltk_data...\n",
      "[nltk_data]    |   Package timit is already up-to-date!\n",
      "[nltk_data]    | Downloading package toolbox to\n",
      "[nltk_data]    |     C:\\Users\\Philippa\\AppData\\Roaming\\nltk_data...\n",
      "[nltk_data]    |   Package toolbox is already up-to-date!\n",
      "[nltk_data]    | Downloading package treebank to\n",
      "[nltk_data]    |     C:\\Users\\Philippa\\AppData\\Roaming\\nltk_data...\n",
      "[nltk_data]    |   Package treebank is already up-to-date!\n",
      "[nltk_data]    | Downloading package twitter_samples to\n",
      "[nltk_data]    |     C:\\Users\\Philippa\\AppData\\Roaming\\nltk_data...\n",
      "[nltk_data]    |   Package twitter_samples is already up-to-date!\n",
      "[nltk_data]    | Downloading package udhr to\n",
      "[nltk_data]    |     C:\\Users\\Philippa\\AppData\\Roaming\\nltk_data...\n",
      "[nltk_data]    |   Package udhr is already up-to-date!\n",
      "[nltk_data]    | Downloading package udhr2 to\n",
      "[nltk_data]    |     C:\\Users\\Philippa\\AppData\\Roaming\\nltk_data...\n",
      "[nltk_data]    |   Package udhr2 is already up-to-date!\n",
      "[nltk_data]    | Downloading package unicode_samples to\n",
      "[nltk_data]    |     C:\\Users\\Philippa\\AppData\\Roaming\\nltk_data...\n",
      "[nltk_data]    |   Package unicode_samples is already up-to-date!\n",
      "[nltk_data]    | Downloading package universal_tagset to\n",
      "[nltk_data]    |     C:\\Users\\Philippa\\AppData\\Roaming\\nltk_data...\n",
      "[nltk_data]    |   Package universal_tagset is already up-to-date!\n",
      "[nltk_data]    | Downloading package universal_treebanks_v20 to\n",
      "[nltk_data]    |     C:\\Users\\Philippa\\AppData\\Roaming\\nltk_data...\n",
      "[nltk_data]    |   Package universal_treebanks_v20 is already up-to-\n",
      "[nltk_data]    |       date!\n",
      "[nltk_data]    | Downloading package vader_lexicon to\n",
      "[nltk_data]    |     C:\\Users\\Philippa\\AppData\\Roaming\\nltk_data...\n",
      "[nltk_data]    |   Package vader_lexicon is already up-to-date!\n",
      "[nltk_data]    | Downloading package verbnet to\n",
      "[nltk_data]    |     C:\\Users\\Philippa\\AppData\\Roaming\\nltk_data...\n",
      "[nltk_data]    |   Package verbnet is already up-to-date!\n",
      "[nltk_data]    | Downloading package verbnet3 to\n",
      "[nltk_data]    |     C:\\Users\\Philippa\\AppData\\Roaming\\nltk_data...\n",
      "[nltk_data]    |   Package verbnet3 is already up-to-date!\n",
      "[nltk_data]    | Downloading package webtext to\n",
      "[nltk_data]    |     C:\\Users\\Philippa\\AppData\\Roaming\\nltk_data...\n",
      "[nltk_data]    |   Package webtext is already up-to-date!\n",
      "[nltk_data]    | Downloading package wmt15_eval to\n",
      "[nltk_data]    |     C:\\Users\\Philippa\\AppData\\Roaming\\nltk_data...\n",
      "[nltk_data]    |   Package wmt15_eval is already up-to-date!\n",
      "[nltk_data]    | Downloading package word2vec_sample to\n",
      "[nltk_data]    |     C:\\Users\\Philippa\\AppData\\Roaming\\nltk_data...\n",
      "[nltk_data]    |   Package word2vec_sample is already up-to-date!\n",
      "[nltk_data]    | Downloading package wordnet to\n",
      "[nltk_data]    |     C:\\Users\\Philippa\\AppData\\Roaming\\nltk_data...\n",
      "[nltk_data]    |   Package wordnet is already up-to-date!\n",
      "[nltk_data]    | Downloading package wordnet2021 to\n",
      "[nltk_data]    |     C:\\Users\\Philippa\\AppData\\Roaming\\nltk_data...\n",
      "[nltk_data]    |   Package wordnet2021 is already up-to-date!\n",
      "[nltk_data]    | Downloading package wordnet2022 to\n",
      "[nltk_data]    |     C:\\Users\\Philippa\\AppData\\Roaming\\nltk_data...\n",
      "[nltk_data]    |   Package wordnet2022 is already up-to-date!\n",
      "[nltk_data]    | Downloading package wordnet31 to\n",
      "[nltk_data]    |     C:\\Users\\Philippa\\AppData\\Roaming\\nltk_data...\n",
      "[nltk_data]    |   Package wordnet31 is already up-to-date!\n",
      "[nltk_data]    | Downloading package wordnet_ic to\n",
      "[nltk_data]    |     C:\\Users\\Philippa\\AppData\\Roaming\\nltk_data...\n",
      "[nltk_data]    |   Package wordnet_ic is already up-to-date!\n",
      "[nltk_data]    | Downloading package words to\n",
      "[nltk_data]    |     C:\\Users\\Philippa\\AppData\\Roaming\\nltk_data...\n",
      "[nltk_data]    |   Package words is already up-to-date!\n",
      "[nltk_data]    | Downloading package ycoe to\n",
      "[nltk_data]    |     C:\\Users\\Philippa\\AppData\\Roaming\\nltk_data...\n",
      "[nltk_data]    |   Package ycoe is already up-to-date!\n",
      "[nltk_data]    | \n",
      "[nltk_data]  Done downloading collection all\n"
     ]
    },
    {
     "data": {
      "text/plain": [
       "True"
      ]
     },
     "execution_count": 1,
     "metadata": {},
     "output_type": "execute_result"
    }
   ],
   "source": [
    "import nltk\n",
    "nltk.download(\"all\")"
   ]
  },
  {
   "cell_type": "markdown",
   "id": "b905aeba",
   "metadata": {},
   "source": [
    "## Sentiment Analysis with BERT"
   ]
  },
  {
   "cell_type": "code",
   "execution_count": 96,
   "id": "25d2ad1b",
   "metadata": {},
   "outputs": [],
   "source": [
    "import numpy as np\n",
    "import pandas as pd\n",
    "import seaborn as sns\n",
    "from pylab import rcParams\n",
    "import matplotlib.pyplot as plt\n",
    "from matplotlib import rc\n",
    "from sklearn.model_selection import train_test_split\n",
    "from sklearn.metrics import confusion_matrix, classification_report\n",
    "from collections import defaultdict\n",
    "from textwrap import wrap\n",
    "\n",
    "# Torch ML libraries\n",
    "import transformers\n",
    "from transformers import BertModel, BertTokenizer, get_linear_schedule_with_warmup\n",
    "import torch\n",
    "from torch import nn, optim\n",
    "from torch.utils.data import Dataset, DataLoader"
   ]
  },
  {
   "cell_type": "code",
   "execution_count": 97,
   "id": "ec598d66",
   "metadata": {},
   "outputs": [],
   "source": [
    "# Graph Designs\n",
    "sns.set(style='whitegrid', palette='muted', font_scale=1.2)\n",
    "HAPPY_COLORS_PALETTE = [\"#01BEFE\", \"#FFDD00\", \"#FF7D00\", \"#FF006D\", \"#ADFF02\", \"#8F00FF\"]\n",
    "sns.set_palette(sns.color_palette(HAPPY_COLORS_PALETTE))\n",
    "rcParams['figure.figsize'] = 12, 8\n",
    "\n",
    "# set seed for reproducibility\n",
    "RANDOM_SEED = 42\n",
    "np.random.seed(RANDOM_SEED)\n",
    "torch.manual_seed(RANDOM_SEED)\n",
    "\n",
    "# agnostic code\n",
    "device = torch.device(\"cuda\" if torch.cuda.is_available() else \"cpu\")"
   ]
  },
  {
   "cell_type": "code",
   "execution_count": 98,
   "id": "2c067296",
   "metadata": {},
   "outputs": [
    {
     "data": {
      "text/html": [
       "<div>\n",
       "<style scoped>\n",
       "    .dataframe tbody tr th:only-of-type {\n",
       "        vertical-align: middle;\n",
       "    }\n",
       "\n",
       "    .dataframe tbody tr th {\n",
       "        vertical-align: top;\n",
       "    }\n",
       "\n",
       "    .dataframe thead th {\n",
       "        text-align: right;\n",
       "    }\n",
       "</style>\n",
       "<table border=\"1\" class=\"dataframe\">\n",
       "  <thead>\n",
       "    <tr style=\"text-align: right;\">\n",
       "      <th></th>\n",
       "      <th>name</th>\n",
       "      <th>date</th>\n",
       "      <th>rating</th>\n",
       "      <th>review</th>\n",
       "    </tr>\n",
       "  </thead>\n",
       "  <tbody>\n",
       "    <tr>\n",
       "      <th>0</th>\n",
       "      <td>Ughduty</td>\n",
       "      <td>Jun 19, 2025</td>\n",
       "      <td>7</td>\n",
       "      <td>Never played the game. Metacritic assigned my ...</td>\n",
       "    </tr>\n",
       "    <tr>\n",
       "      <th>1</th>\n",
       "      <td>tarquinthegreat</td>\n",
       "      <td>Apr 28, 2025</td>\n",
       "      <td>10</td>\n",
       "      <td>absolutely banging ‎xxxxxxxxxxxxxxxxxxxxxxxxxx...</td>\n",
       "    </tr>\n",
       "    <tr>\n",
       "      <th>2</th>\n",
       "      <td>Gamewing</td>\n",
       "      <td>Apr 21, 2025</td>\n",
       "      <td>6</td>\n",
       "      <td>First couple hours are fun, getting your first...</td>\n",
       "    </tr>\n",
       "    <tr>\n",
       "      <th>3</th>\n",
       "      <td>Z4ry</td>\n",
       "      <td>Mar 24, 2025</td>\n",
       "      <td>9</td>\n",
       "      <td>100+ hours\\n- Great evolution from previous ti...</td>\n",
       "    </tr>\n",
       "    <tr>\n",
       "      <th>4</th>\n",
       "      <td>Lucaq</td>\n",
       "      <td>Mar 20, 2025</td>\n",
       "      <td>10</td>\n",
       "      <td>Perfect in every way.\\nAaaaaaaaaaaaaaaaaaaaaaa...</td>\n",
       "    </tr>\n",
       "    <tr>\n",
       "      <th>...</th>\n",
       "      <td>...</td>\n",
       "      <td>...</td>\n",
       "      <td>...</td>\n",
       "      <td>...</td>\n",
       "    </tr>\n",
       "    <tr>\n",
       "      <th>209</th>\n",
       "      <td>Autosaver</td>\n",
       "      <td>Jun 9, 2013</td>\n",
       "      <td>10</td>\n",
       "      <td>Animal Crossing has gone a long way since the ...</td>\n",
       "    </tr>\n",
       "    <tr>\n",
       "      <th>210</th>\n",
       "      <td>KirkyDaTurkey</td>\n",
       "      <td>Jun 9, 2013</td>\n",
       "      <td>9</td>\n",
       "      <td>Based on Day 1, this game is definitely a 9 so...</td>\n",
       "    </tr>\n",
       "    <tr>\n",
       "      <th>211</th>\n",
       "      <td>EFYevan</td>\n",
       "      <td>Jun 9, 2013</td>\n",
       "      <td>10</td>\n",
       "      <td>Much different than the previous DS version  I...</td>\n",
       "    </tr>\n",
       "    <tr>\n",
       "      <th>212</th>\n",
       "      <td>L0stR3negade</td>\n",
       "      <td>Jun 9, 2013</td>\n",
       "      <td>9</td>\n",
       "      <td>Refreshing style of game to play. Its hard to ...</td>\n",
       "    </tr>\n",
       "    <tr>\n",
       "      <th>213</th>\n",
       "      <td>setz</td>\n",
       "      <td>Jun 9, 2013</td>\n",
       "      <td>10</td>\n",
       "      <td>Finally an AC to dethrone the Gamecube version...</td>\n",
       "    </tr>\n",
       "  </tbody>\n",
       "</table>\n",
       "<p>214 rows × 4 columns</p>\n",
       "</div>"
      ],
      "text/plain": [
       "                name          date  rating  \\\n",
       "0            Ughduty  Jun 19, 2025       7   \n",
       "1    tarquinthegreat  Apr 28, 2025      10   \n",
       "2           Gamewing  Apr 21, 2025       6   \n",
       "3               Z4ry  Mar 24, 2025       9   \n",
       "4              Lucaq  Mar 20, 2025      10   \n",
       "..               ...           ...     ...   \n",
       "209        Autosaver   Jun 9, 2013      10   \n",
       "210    KirkyDaTurkey   Jun 9, 2013       9   \n",
       "211          EFYevan   Jun 9, 2013      10   \n",
       "212     L0stR3negade   Jun 9, 2013       9   \n",
       "213             setz   Jun 9, 2013      10   \n",
       "\n",
       "                                                review  \n",
       "0    Never played the game. Metacritic assigned my ...  \n",
       "1    absolutely banging ‎xxxxxxxxxxxxxxxxxxxxxxxxxx...  \n",
       "2    First couple hours are fun, getting your first...  \n",
       "3    100+ hours\\n- Great evolution from previous ti...  \n",
       "4    Perfect in every way.\\nAaaaaaaaaaaaaaaaaaaaaaa...  \n",
       "..                                                 ...  \n",
       "209  Animal Crossing has gone a long way since the ...  \n",
       "210  Based on Day 1, this game is definitely a 9 so...  \n",
       "211  Much different than the previous DS version  I...  \n",
       "212  Refreshing style of game to play. Its hard to ...  \n",
       "213  Finally an AC to dethrone the Gamecube version...  \n",
       "\n",
       "[214 rows x 4 columns]"
      ]
     },
     "execution_count": 98,
     "metadata": {},
     "output_type": "execute_result"
    }
   ],
   "source": [
    "# reimport the data\n",
    "df_NL = pd.read_csv(r\"C:\\Users\\Philippa\\Documents\\GitHub\\webscraper\\Scraper\\NL_Parsed_Reviews.csv\")\n",
    "\n",
    "df_NL"
   ]
  },
  {
   "cell_type": "code",
   "execution_count": 99,
   "id": "6b028768",
   "metadata": {},
   "outputs": [
    {
     "data": {
      "text/plain": [
       "name      0\n",
       "date      0\n",
       "rating    0\n",
       "review    0\n",
       "dtype: int64"
      ]
     },
     "execution_count": 99,
     "metadata": {},
     "output_type": "execute_result"
    }
   ],
   "source": [
    "# double check if there are any missing values\n",
    "df_NL.isnull().sum()"
   ]
  },
  {
   "cell_type": "code",
   "execution_count": 100,
   "id": "1e75972f",
   "metadata": {},
   "outputs": [
    {
     "data": {
      "image/png": "[encoded data removed]",
      "text/plain": [
       "<Figure size 1200x800 with 1 Axes>"
      ]
     },
     "metadata": {},
     "output_type": "display_data"
    }
   ],
   "source": [
    "# look at the class balance\n",
    "sns.countplot(df_NL, x=\"rating\")\n",
    "plt.xlabel(\"Review Score\");"
   ]
  },
  {
   "cell_type": "markdown",
   "id": "8edf01c7",
   "metadata": {},
   "source": [
    "There are a lot more positive classes compared to negative classes. It doesn't seem like anyone gave this game a score of 3.\n",
    "\n",
    "I'll define the rating scores as positive, negative, or neutral classes.\n",
    "* Negative (Score: 0 - 4)\n",
    "* Neutral (Score: 5)\n",
    "* Positive (Score: 6 - 10)"
   ]
  },
  {
   "cell_type": "code",
   "execution_count": 101,
   "id": "6e92fe71",
   "metadata": {},
   "outputs": [
    {
     "data": {
      "text/html": [
       "<div>\n",
       "<style scoped>\n",
       "    .dataframe tbody tr th:only-of-type {\n",
       "        vertical-align: middle;\n",
       "    }\n",
       "\n",
       "    .dataframe tbody tr th {\n",
       "        vertical-align: top;\n",
       "    }\n",
       "\n",
       "    .dataframe thead th {\n",
       "        text-align: right;\n",
       "    }\n",
       "</style>\n",
       "<table border=\"1\" class=\"dataframe\">\n",
       "  <thead>\n",
       "    <tr style=\"text-align: right;\">\n",
       "      <th></th>\n",
       "      <th>name</th>\n",
       "      <th>date</th>\n",
       "      <th>rating</th>\n",
       "      <th>review</th>\n",
       "      <th>sentiment</th>\n",
       "    </tr>\n",
       "  </thead>\n",
       "  <tbody>\n",
       "    <tr>\n",
       "      <th>0</th>\n",
       "      <td>Ughduty</td>\n",
       "      <td>Jun 19, 2025</td>\n",
       "      <td>7</td>\n",
       "      <td>Never played the game. Metacritic assigned my ...</td>\n",
       "      <td>2</td>\n",
       "    </tr>\n",
       "    <tr>\n",
       "      <th>1</th>\n",
       "      <td>tarquinthegreat</td>\n",
       "      <td>Apr 28, 2025</td>\n",
       "      <td>10</td>\n",
       "      <td>absolutely banging ‎xxxxxxxxxxxxxxxxxxxxxxxxxx...</td>\n",
       "      <td>2</td>\n",
       "    </tr>\n",
       "    <tr>\n",
       "      <th>2</th>\n",
       "      <td>Gamewing</td>\n",
       "      <td>Apr 21, 2025</td>\n",
       "      <td>6</td>\n",
       "      <td>First couple hours are fun, getting your first...</td>\n",
       "      <td>2</td>\n",
       "    </tr>\n",
       "    <tr>\n",
       "      <th>3</th>\n",
       "      <td>Z4ry</td>\n",
       "      <td>Mar 24, 2025</td>\n",
       "      <td>9</td>\n",
       "      <td>100+ hours\\n- Great evolution from previous ti...</td>\n",
       "      <td>2</td>\n",
       "    </tr>\n",
       "    <tr>\n",
       "      <th>4</th>\n",
       "      <td>Lucaq</td>\n",
       "      <td>Mar 20, 2025</td>\n",
       "      <td>10</td>\n",
       "      <td>Perfect in every way.\\nAaaaaaaaaaaaaaaaaaaaaaa...</td>\n",
       "      <td>2</td>\n",
       "    </tr>\n",
       "    <tr>\n",
       "      <th>...</th>\n",
       "      <td>...</td>\n",
       "      <td>...</td>\n",
       "      <td>...</td>\n",
       "      <td>...</td>\n",
       "      <td>...</td>\n",
       "    </tr>\n",
       "    <tr>\n",
       "      <th>209</th>\n",
       "      <td>Autosaver</td>\n",
       "      <td>Jun 9, 2013</td>\n",
       "      <td>10</td>\n",
       "      <td>Animal Crossing has gone a long way since the ...</td>\n",
       "      <td>2</td>\n",
       "    </tr>\n",
       "    <tr>\n",
       "      <th>210</th>\n",
       "      <td>KirkyDaTurkey</td>\n",
       "      <td>Jun 9, 2013</td>\n",
       "      <td>9</td>\n",
       "      <td>Based on Day 1, this game is definitely a 9 so...</td>\n",
       "      <td>2</td>\n",
       "    </tr>\n",
       "    <tr>\n",
       "      <th>211</th>\n",
       "      <td>EFYevan</td>\n",
       "      <td>Jun 9, 2013</td>\n",
       "      <td>10</td>\n",
       "      <td>Much different than the previous DS version  I...</td>\n",
       "      <td>2</td>\n",
       "    </tr>\n",
       "    <tr>\n",
       "      <th>212</th>\n",
       "      <td>L0stR3negade</td>\n",
       "      <td>Jun 9, 2013</td>\n",
       "      <td>9</td>\n",
       "      <td>Refreshing style of game to play. Its hard to ...</td>\n",
       "      <td>2</td>\n",
       "    </tr>\n",
       "    <tr>\n",
       "      <th>213</th>\n",
       "      <td>setz</td>\n",
       "      <td>Jun 9, 2013</td>\n",
       "      <td>10</td>\n",
       "      <td>Finally an AC to dethrone the Gamecube version...</td>\n",
       "      <td>2</td>\n",
       "    </tr>\n",
       "  </tbody>\n",
       "</table>\n",
       "<p>214 rows × 5 columns</p>\n",
       "</div>"
      ],
      "text/plain": [
       "                name          date  rating  \\\n",
       "0            Ughduty  Jun 19, 2025       7   \n",
       "1    tarquinthegreat  Apr 28, 2025      10   \n",
       "2           Gamewing  Apr 21, 2025       6   \n",
       "3               Z4ry  Mar 24, 2025       9   \n",
       "4              Lucaq  Mar 20, 2025      10   \n",
       "..               ...           ...     ...   \n",
       "209        Autosaver   Jun 9, 2013      10   \n",
       "210    KirkyDaTurkey   Jun 9, 2013       9   \n",
       "211          EFYevan   Jun 9, 2013      10   \n",
       "212     L0stR3negade   Jun 9, 2013       9   \n",
       "213             setz   Jun 9, 2013      10   \n",
       "\n",
       "                                                review  sentiment  \n",
       "0    Never played the game. Metacritic assigned my ...          2  \n",
       "1    absolutely banging ‎xxxxxxxxxxxxxxxxxxxxxxxxxx...          2  \n",
       "2    First couple hours are fun, getting your first...          2  \n",
       "3    100+ hours\\n- Great evolution from previous ti...          2  \n",
       "4    Perfect in every way.\\nAaaaaaaaaaaaaaaaaaaaaaa...          2  \n",
       "..                                                 ...        ...  \n",
       "209  Animal Crossing has gone a long way since the ...          2  \n",
       "210  Based on Day 1, this game is definitely a 9 so...          2  \n",
       "211  Much different than the previous DS version  I...          2  \n",
       "212  Refreshing style of game to play. Its hard to ...          2  \n",
       "213  Finally an AC to dethrone the Gamecube version...          2  \n",
       "\n",
       "[214 rows x 5 columns]"
      ]
     },
     "execution_count": 101,
     "metadata": {},
     "output_type": "execute_result"
    }
   ],
   "source": [
    "def to_sentiment(rating):\n",
    "    rating = int(rating)\n",
    "    \n",
    "    if rating <= 4:\n",
    "        return 0\n",
    "    elif rating == 5:\n",
    "        return 1\n",
    "    else:\n",
    "        return 2\n",
    "    \n",
    "# apply scoring to dataset\n",
    "df_NL[\"sentiment\"] = df_NL[\"rating\"].apply(to_sentiment)\n",
    "df_NL"
   ]
  },
  {
   "cell_type": "code",
   "execution_count": 102,
   "id": "c5a230f4",
   "metadata": {},
   "outputs": [
    {
     "name": "stderr",
     "output_type": "stream",
     "text": [
      "C:\\Users\\Philippa\\AppData\\Local\\Temp\\ipykernel_35904\\3302368973.py:5: UserWarning: set_ticklabels() should only be used with a fixed number of ticks, i.e. after set_ticks() or using a FixedLocator.\n",
      "  ax.set_xticklabels(class_names)\n"
     ]
    },
    {
     "data": {
      "text/plain": [
       "[Text(0, 0, 'negative'), Text(1, 0, 'neutral'), Text(2, 0, 'positive')]"
      ]
     },
     "execution_count": 102,
     "metadata": {},
     "output_type": "execute_result"
    },
    {
     "data": {
      "image/png": "[encoded data removed]",
      "text/plain": [
       "<Figure size 1200x800 with 1 Axes>"
      ]
     },
     "metadata": {},
     "output_type": "display_data"
    }
   ],
   "source": [
    "# plotting the distribution\n",
    "class_names = [\"negative\", \"neutral\", \"positive\"]\n",
    "ax = sns.countplot(df_NL, x=\"sentiment\")\n",
    "plt.xlabel(\"review sentiment\")\n",
    "ax.set_xticklabels(class_names)"
   ]
  },
  {
   "cell_type": "markdown",
   "id": "075b1023",
   "metadata": {},
   "source": [
    "### Data Preprocessing"
   ]
  },
  {
   "cell_type": "code",
   "execution_count": 103,
   "id": "3e9f61e7",
   "metadata": {},
   "outputs": [],
   "source": [
    "# setting the model name\n",
    "MODEL_NAME = \"bert-base-cased\"\n",
    "\n",
    "# BERT-based tokenizer\n",
    "tokenizer = BertTokenizer.from_pretrained(MODEL_NAME)"
   ]
  },
  {
   "cell_type": "code",
   "execution_count": 104,
   "id": "5b27d353",
   "metadata": {},
   "outputs": [
    {
     "name": "stdout",
     "output_type": "stream",
     "text": [
      "[SEP] 102\n",
      "[CLS] 101\n",
      "[PAD] 0\n",
      "[UNK] 100\n"
     ]
    }
   ],
   "source": [
    "## Common BERT tokens\n",
    "print(tokenizer.sep_token, tokenizer.sep_token_id) # marker for ending of a sentence\n",
    "print(tokenizer.cls_token, tokenizer.cls_token_id) # start of each sentence, so BERT knows it's classification\n",
    "print(tokenizer.pad_token, tokenizer.pad_token_id) # special token for padding\n",
    "print(tokenizer.unk_token, tokenizer.unk_token_id) # tokens not found in training set"
   ]
  },
  {
   "cell_type": "code",
   "execution_count": 105,
   "id": "a380bf82",
   "metadata": {},
   "outputs": [
    {
     "name": "stderr",
     "output_type": "stream",
     "text": [
      "Truncation was not explicitly activated but `max_length` is provided a specific value, please use `truncation=True` to explicitly truncate examples to max length. Defaulting to 'longest_first' truncation strategy. If you encode pairs of sequences (GLUE-style) with the tokenizer you can select this strategy more precisely by providing a specific strategy to `truncation`.\n"
     ]
    }
   ],
   "source": [
    "# BERT works with fixed-length sequences. use a simple strategy to choose max length\n",
    "# store length of each review\n",
    "token_lens = []\n",
    "\n",
    "# iterate through the content slide\n",
    "for txt in df_NL[\"review\"]:\n",
    "    tokens = tokenizer.encode(txt, max_length=512)\n",
    "    token_lens.append(len(tokens))"
   ]
  },
  {
   "cell_type": "code",
   "execution_count": 106,
   "id": "421695bc",
   "metadata": {},
   "outputs": [
    {
     "data": {
      "text/plain": [
       "Text(0.5, 16.044444444444423, 'Token count')"
      ]
     },
     "execution_count": 106,
     "metadata": {},
     "output_type": "execute_result"
    },
    {
     "data": {
      "image/png": "[encoded data removed]",
      "text/plain": [
       "<Figure size 500x500 with 1 Axes>"
      ]
     },
     "metadata": {},
     "output_type": "display_data"
    }
   ],
   "source": [
    "sns.displot(token_lens)\n",
    "plt.xlim([0, 516]);\n",
    "plt.xlabel(\"Token count\")"
   ]
  },
  {
   "cell_type": "markdown",
   "id": "9a991059",
   "metadata": {},
   "source": [
    "Most of the reviews contain 200 tokens or less, but some contain up to 500. To be safe and encompass everything, the maximum length can be set to 512 (hard to tell on the graph if its less or more than 500)."
   ]
  },
  {
   "cell_type": "code",
   "execution_count": 107,
   "id": "5e164dbd",
   "metadata": {},
   "outputs": [],
   "source": [
    "MAX_LEN = 512"
   ]
  },
  {
   "cell_type": "markdown",
   "id": "d4a7ed2f",
   "metadata": {},
   "source": [
    "## Preparing Torch Dataset"
   ]
  },
  {
   "cell_type": "code",
   "execution_count": 108,
   "id": "579ef165",
   "metadata": {},
   "outputs": [],
   "source": [
    "class MCReviewDataset(Dataset):\n",
    "    # Constructor Function\n",
    "    def __init__(self, reviews, targets, tokenizer, max_len):\n",
    "        self.reviews = reviews\n",
    "        self.targets = targets\n",
    "        self.tokenizer = tokenizer\n",
    "        self.max_len = max_len\n",
    "        \n",
    "    # Length magic method\n",
    "    def __len__(self):\n",
    "        return len(self.reviews)\n",
    "    \n",
    "    # Get item magic method\n",
    "    def __getitem__(self, item):\n",
    "        review = str(self.reviews[item])\n",
    "        target = self.targets[item]\n",
    "        \n",
    "        # Encoded format to be returned\n",
    "        encoding = self.tokenizer.encode_plus(\n",
    "            review,\n",
    "            add_special_tokens=True,\n",
    "            max_length=self.max_len,\n",
    "            return_token_type_ids=False,\n",
    "            padding=\"max_length\",\n",
    "            truncation=True,\n",
    "            return_attention_mask=True,\n",
    "            return_tensors=\"pt\"\n",
    "        )\n",
    "        \n",
    "        return {\n",
    "            \"review_text\": review,\n",
    "            \"input_ids\": encoding[\"input_ids\"].flatten(),\n",
    "            \"attention_mask\": encoding[\"attention_mask\"].flatten(),\n",
    "            \"targets\": torch.tensor(target, dtype=torch.long)\n",
    "        }"
   ]
  },
  {
   "cell_type": "code",
   "execution_count": 109,
   "id": "a089b610",
   "metadata": {},
   "outputs": [
    {
     "name": "stdout",
     "output_type": "stream",
     "text": [
      "(171, 5) (21, 5) (22, 5)\n"
     ]
    }
   ],
   "source": [
    "# create an 80% training data, 10% test data set, and 10% validation data set\n",
    "df_train, df_test = train_test_split(df_NL, test_size=0.2, random_state=RANDOM_SEED)\n",
    "df_val, df_test = train_test_split(df_test, test_size=0.5, random_state=RANDOM_SEED)\n",
    "\n",
    "print(df_train.shape, df_val.shape, df_test.shape)"
   ]
  },
  {
   "cell_type": "code",
   "execution_count": 110,
   "id": "a9116ae2",
   "metadata": {},
   "outputs": [],
   "source": [
    "# create a dataloader to release data in batches\n",
    "def create_dataloader(df, tokenizer, max_len, batch_size):\n",
    "    ds = MCReviewDataset(\n",
    "        reviews=df[\"review\"].to_numpy(),\n",
    "        targets=df[\"sentiment\"].to_numpy(),\n",
    "        tokenizer=tokenizer,\n",
    "        max_len=max_len\n",
    "    )\n",
    "    \n",
    "    return DataLoader(\n",
    "        ds,\n",
    "        batch_size=batch_size,\n",
    "        num_workers=0\n",
    "    )"
   ]
  },
  {
   "cell_type": "code",
   "execution_count": 111,
   "id": "ebb735a9",
   "metadata": {},
   "outputs": [],
   "source": [
    "# create train, test, and val DataLoaders\n",
    "BATCH_SIZE = 16\n",
    "train_dataloader = create_dataloader(df_train, tokenizer, MAX_LEN, BATCH_SIZE)\n",
    "val_dataloader = create_dataloader(df_val, tokenizer, MAX_LEN, BATCH_SIZE)\n",
    "test_dataloader = create_dataloader(df_test, tokenizer, MAX_LEN, BATCH_SIZE)"
   ]
  },
  {
   "cell_type": "code",
   "execution_count": 112,
   "id": "51eba818",
   "metadata": {},
   "outputs": [
    {
     "name": "stdout",
     "output_type": "stream",
     "text": [
      "dict_keys(['review_text', 'input_ids', 'attention_mask', 'targets'])\n",
      "torch.Size([16, 512])\n",
      "torch.Size([16, 512])\n",
      "torch.Size([16])\n"
     ]
    }
   ],
   "source": [
    "# Examples\n",
    "data = next(iter(train_dataloader))\n",
    "print(data.keys())\n",
    "\n",
    "print(data[\"input_ids\"].shape)\n",
    "print(data[\"attention_mask\"].shape)\n",
    "print(data[\"targets\"].shape)"
   ]
  },
  {
   "cell_type": "markdown",
   "id": "de17b6a0",
   "metadata": {},
   "source": [
    "## Sentiment Classification with BERT and Hugging Face"
   ]
  },
  {
   "cell_type": "code",
   "execution_count": 113,
   "id": "95f1aa71",
   "metadata": {},
   "outputs": [],
   "source": [
    "# Load in basic BERT model\n",
    "bert_model = BertModel.from_pretrained(MODEL_NAME)"
   ]
  },
  {
   "cell_type": "code",
   "execution_count": 114,
   "id": "91787029",
   "metadata": {},
   "outputs": [],
   "source": [
    "# sentiment classifier class\n",
    "class SentimentClassifier(nn.Module):\n",
    "    \n",
    "    # Constructor class\n",
    "    def __init__(self, n_classes):\n",
    "        super(SentimentClassifier, self).__init__()\n",
    "        self.bert = BertModel.from_pretrained(MODEL_NAME)\n",
    "        self.drop = nn.Dropout(p=0.3) # dropout layer for some regularization\n",
    "        self.out = nn.Linear(self.bert.config.hidden_size, n_classes)\n",
    "        \n",
    "    # forward propagation class\n",
    "    def forward(self, input_ids, attention_mask):\n",
    "        outputs = self.bert(\n",
    "        input_ids=input_ids,\n",
    "        attention_mask=attention_mask\n",
    "        )\n",
    "        pooled_output = outputs.pooler_output   \n",
    "        output = self.drop(pooled_output)\n",
    "        return self.out(output)"
   ]
  },
  {
   "cell_type": "code",
   "execution_count": 115,
   "id": "f25092df",
   "metadata": {},
   "outputs": [
    {
     "data": {
      "text/plain": [
       "SentimentClassifier(\n",
       "  (bert): BertModel(\n",
       "    (embeddings): BertEmbeddings(\n",
       "      (word_embeddings): Embedding(28996, 768, padding_idx=0)\n",
       "      (position_embeddings): Embedding(512, 768)\n",
       "      (token_type_embeddings): Embedding(2, 768)\n",
       "      (LayerNorm): LayerNorm((768,), eps=1e-12, elementwise_affine=True)\n",
       "      (dropout): Dropout(p=0.1, inplace=False)\n",
       "    )\n",
       "    (encoder): BertEncoder(\n",
       "      (layer): ModuleList(\n",
       "        (0-11): 12 x BertLayer(\n",
       "          (attention): BertAttention(\n",
       "            (self): BertSdpaSelfAttention(\n",
       "              (query): Linear(in_features=768, out_features=768, bias=True)\n",
       "              (key): Linear(in_features=768, out_features=768, bias=True)\n",
       "              (value): Linear(in_features=768, out_features=768, bias=True)\n",
       "              (dropout): Dropout(p=0.1, inplace=False)\n",
       "            )\n",
       "            (output): BertSelfOutput(\n",
       "              (dense): Linear(in_features=768, out_features=768, bias=True)\n",
       "              (LayerNorm): LayerNorm((768,), eps=1e-12, elementwise_affine=True)\n",
       "              (dropout): Dropout(p=0.1, inplace=False)\n",
       "            )\n",
       "          )\n",
       "          (intermediate): BertIntermediate(\n",
       "            (dense): Linear(in_features=768, out_features=3072, bias=True)\n",
       "            (intermediate_act_fn): GELUActivation()\n",
       "          )\n",
       "          (output): BertOutput(\n",
       "            (dense): Linear(in_features=3072, out_features=768, bias=True)\n",
       "            (LayerNorm): LayerNorm((768,), eps=1e-12, elementwise_affine=True)\n",
       "            (dropout): Dropout(p=0.1, inplace=False)\n",
       "          )\n",
       "        )\n",
       "      )\n",
       "    )\n",
       "    (pooler): BertPooler(\n",
       "      (dense): Linear(in_features=768, out_features=768, bias=True)\n",
       "      (activation): Tanh()\n",
       "    )\n",
       "  )\n",
       "  (drop): Dropout(p=0.3, inplace=False)\n",
       "  (out): Linear(in_features=768, out_features=3, bias=True)\n",
       ")"
      ]
     },
     "execution_count": 115,
     "metadata": {},
     "output_type": "execute_result"
    }
   ],
   "source": [
    "# instatiate the model and move to classifier\n",
    "model = SentimentClassifier(len(class_names)).to(device)\n",
    "model"
   ]
  },
  {
   "cell_type": "code",
   "execution_count": 116,
   "id": "a4f772c0",
   "metadata": {},
   "outputs": [
    {
     "name": "stdout",
     "output_type": "stream",
     "text": [
      "768\n"
     ]
    }
   ],
   "source": [
    "## model characteristics\n",
    "print(bert_model.config.hidden_size)"
   ]
  },
  {
   "cell_type": "markdown",
   "id": "0ed400cc",
   "metadata": {},
   "source": [
    "### Training Phase"
   ]
  },
  {
   "cell_type": "code",
   "execution_count": 117,
   "id": "5df3f1f0",
   "metadata": {},
   "outputs": [],
   "source": [
    "EPOCHS = 10\n",
    "\n",
    "# optimizer Adam\n",
    "optimizer = transformers.Adafactor(params=model.parameters(), lr=0.001, relative_step=False)\n",
    "\n",
    "total_steps = len(train_dataloader) * EPOCHS\n",
    "\n",
    "scheduler = get_linear_schedule_with_warmup(\n",
    "     optimizer,\n",
    "     num_warmup_steps=0,\n",
    "     num_training_steps=total_steps\n",
    " )\n",
    "\n",
    "# set the loss function\n",
    "loss_fn = nn.CrossEntropyLoss().to(device)"
   ]
  },
  {
   "cell_type": "code",
   "execution_count": 118,
   "id": "fd4dfa2f",
   "metadata": {},
   "outputs": [],
   "source": [
    "# function for a single training iteration\n",
    "\n",
    "def train_step(model: torch.nn.Module,\n",
    "                data_loader: torch.utils.data.DataLoader,\n",
    "                loss_fn: torch.nn.Module,\n",
    "                optimizer,\n",
    "                device,\n",
    "                scheduler,\n",
    "                n_examples):\n",
    "    model = model.train()\n",
    "    losses = []\n",
    "    correct_predictions = 0\n",
    "    \n",
    "    for d in data_loader:\n",
    "        input_ids = d[\"input_ids\"].to(device)\n",
    "        attention_mask = d[\"attention_mask\"].to(device)\n",
    "        targets = d[\"targets\"].to(device)\n",
    "        \n",
    "        outputs = model(\n",
    "            input_ids=input_ids,\n",
    "            attention_mask=attention_mask\n",
    "        )\n",
    "        \n",
    "        _, preds = torch.max(outputs, dim=1)\n",
    "        loss = loss_fn(outputs, targets)\n",
    "        correct_predictions += torch.sum(preds == targets)\n",
    "        losses.append(loss.item())\n",
    "        \n",
    "        loss.backward()\n",
    "        \n",
    "        ## gradient descent\n",
    "        nn.utils.clip_grad_norm_(model.parameters(), max_norm=1.0)\n",
    "        optimizer.step()\n",
    "        scheduler.step()\n",
    "        optimizer.zero_grad()\n",
    "        \n",
    "    return correct_predictions.double() / n_examples, np.mean(losses)"
   ]
  },
  {
   "cell_type": "code",
   "execution_count": 119,
   "id": "f1ed3f51",
   "metadata": {},
   "outputs": [],
   "source": [
    "# function to evaluate model performance\n",
    "def eval_model(model,\n",
    "               data_loader,\n",
    "               loss_fn,\n",
    "               device,\n",
    "               n_examples):\n",
    "    \n",
    "    model = model.eval()\n",
    "    \n",
    "    losses = []\n",
    "    correct_predictions = 0\n",
    "    \n",
    "    with torch.inference_mode():\n",
    "        for d in data_loader:\n",
    "            input_ids = d[\"input_ids\"].to(device)\n",
    "            attention_mask = d[\"attention_mask\"].to(device)\n",
    "            targets = d[\"targets\"].to(device)\n",
    "            \n",
    "            # get model outputs\n",
    "            outputs = model(\n",
    "                input_ids = input_ids,\n",
    "                attention_mask=attention_mask\n",
    "            )\n",
    "            \n",
    "            _, preds = torch.max(outputs, dim=1)\n",
    "            loss = loss_fn(outputs, targets)\n",
    "            \n",
    "            correct_predictions += torch.sum(preds == targets)\n",
    "            losses.append(loss.item())\n",
    "            \n",
    "    return correct_predictions.double() / n_examples, np.mean(losses)"
   ]
  },
  {
   "cell_type": "code",
   "execution_count": 120,
   "id": "bb99e365",
   "metadata": {},
   "outputs": [
    {
     "name": "stderr",
     "output_type": "stream",
     "text": [
      "  0%|          | 0/10 [00:00<?, ?it/s]"
     ]
    },
    {
     "name": "stdout",
     "output_type": "stream",
     "text": [
      "Epoch 1 / 10\n",
      "----------\n",
      "Train loss: 0.5167912393808365 | Accuracy: 0.9181286549707601\n",
      "Val loss: 0.2178288958966732 | Val acc: 0.9523809523809523\n",
      "\n"
     ]
    },
    {
     "name": "stderr",
     "output_type": "stream",
     "text": [
      " 10%|█         | 1/10 [00:25<03:45, 25.07s/it]"
     ]
    },
    {
     "name": "stdout",
     "output_type": "stream",
     "text": [
      "Epoch 2 / 10\n",
      "----------\n",
      "Train loss: 0.3044832321730527 | Accuracy: 0.935672514619883\n"
     ]
    },
    {
     "name": "stderr",
     "output_type": "stream",
     "text": [
      " 20%|██        | 2/10 [00:42<02:42, 20.34s/it]"
     ]
    },
    {
     "name": "stdout",
     "output_type": "stream",
     "text": [
      "Val loss: 0.1660343650728464 | Val acc: 0.9523809523809523\n",
      "\n",
      "Epoch 3 / 10\n",
      "----------\n",
      "Train loss: 0.27928216992454097 | Accuracy: 0.935672514619883\n"
     ]
    },
    {
     "name": "stderr",
     "output_type": "stream",
     "text": [
      " 30%|███       | 3/10 [01:03<02:26, 20.88s/it]"
     ]
    },
    {
     "name": "stdout",
     "output_type": "stream",
     "text": [
      "Val loss: 0.15932628884911537 | Val acc: 0.9523809523809523\n",
      "\n",
      "Epoch 4 / 10\n",
      "----------\n",
      "Train loss: 0.2520284154875712 | Accuracy: 0.935672514619883\n"
     ]
    },
    {
     "name": "stderr",
     "output_type": "stream",
     "text": [
      " 40%|████      | 4/10 [01:24<02:06, 21.02s/it]"
     ]
    },
    {
     "name": "stdout",
     "output_type": "stream",
     "text": [
      "Val loss: 0.1522057931870222 | Val acc: 0.9523809523809523\n",
      "\n",
      "Epoch 5 / 10\n",
      "----------\n",
      "Train loss: 0.19511102004484696 | Accuracy: 0.935672514619883\n"
     ]
    },
    {
     "name": "stderr",
     "output_type": "stream",
     "text": [
      " 50%|█████     | 5/10 [01:46<01:45, 21.17s/it]"
     ]
    },
    {
     "name": "stdout",
     "output_type": "stream",
     "text": [
      "Val loss: 0.15271479822695255 | Val acc: 0.9523809523809523\n",
      "\n",
      "Epoch 6 / 10\n",
      "----------\n",
      "Train loss: 0.1669445803219622 | Accuracy: 0.9415204678362572\n"
     ]
    },
    {
     "name": "stderr",
     "output_type": "stream",
     "text": [
      " 60%|██████    | 6/10 [02:02<01:17, 19.49s/it]"
     ]
    },
    {
     "name": "stdout",
     "output_type": "stream",
     "text": [
      "Val loss: 0.13424105383455753 | Val acc: 0.9523809523809523\n",
      "\n",
      "Epoch 7 / 10\n",
      "----------\n",
      "Train loss: 0.10490268307992003 | Accuracy: 0.9649122807017543\n"
     ]
    },
    {
     "name": "stderr",
     "output_type": "stream",
     "text": [
      " 70%|███████   | 7/10 [02:13<00:50, 16.87s/it]"
     ]
    },
    {
     "name": "stdout",
     "output_type": "stream",
     "text": [
      "Val loss: 0.15658725192770362 | Val acc: 0.9523809523809523\n",
      "\n",
      "Epoch 8 / 10\n",
      "----------\n",
      "Train loss: 0.07487288489937782 | Accuracy: 0.9766081871345029\n"
     ]
    },
    {
     "name": "stderr",
     "output_type": "stream",
     "text": [
      " 80%|████████  | 8/10 [02:25<00:30, 15.06s/it]"
     ]
    },
    {
     "name": "stdout",
     "output_type": "stream",
     "text": [
      "Val loss: 0.16712123900651932 | Val acc: 0.9523809523809523\n",
      "\n",
      "Epoch 9 / 10\n",
      "----------\n",
      "Train loss: 0.06414604466408491 | Accuracy: 0.9824561403508771\n"
     ]
    },
    {
     "name": "stderr",
     "output_type": "stream",
     "text": [
      " 90%|█████████ | 9/10 [02:38<00:14, 14.44s/it]"
     ]
    },
    {
     "name": "stdout",
     "output_type": "stream",
     "text": [
      "Val loss: 0.15330368280410767 | Val acc: 0.9523809523809523\n",
      "\n",
      "Epoch 10 / 10\n",
      "----------\n",
      "Train loss: 0.06077282003719698 | Accuracy: 0.9766081871345029\n"
     ]
    },
    {
     "name": "stderr",
     "output_type": "stream",
     "text": [
      "100%|██████████| 10/10 [02:49<00:00, 16.95s/it]"
     ]
    },
    {
     "name": "stdout",
     "output_type": "stream",
     "text": [
      "Val loss: 0.15164317190647125 | Val acc: 0.9523809523809523\n",
      "\n"
     ]
    },
    {
     "name": "stderr",
     "output_type": "stream",
     "text": [
      "\n"
     ]
    }
   ],
   "source": [
    "from tqdm import tqdm\n",
    "\n",
    "history = defaultdict(list)\n",
    "best_accuracy = 0\n",
    "\n",
    "for epoch in tqdm(range(EPOCHS)):\n",
    "    print(f\"Epoch {epoch + 1} / {EPOCHS}\")\n",
    "    print(\"-\" * 10)\n",
    "    \n",
    "    train_acc, train_loss = train_step(\n",
    "        model,\n",
    "        train_dataloader,\n",
    "        loss_fn,\n",
    "        optimizer,\n",
    "        device,\n",
    "        scheduler,\n",
    "        len(df_train)\n",
    "    )\n",
    "    \n",
    "    print(f\"Train loss: {train_loss} | Accuracy: {train_acc}\")\n",
    "    \n",
    "    # model performance (acc and loss)\n",
    "    val_acc, val_loss = eval_model(\n",
    "        model,\n",
    "        val_dataloader,\n",
    "        loss_fn,\n",
    "        device,\n",
    "        len(df_val)\n",
    "    )\n",
    "    \n",
    "    print(f\"Val loss: {val_loss} | Val acc: {val_acc}\")\n",
    "    print()\n",
    "    \n",
    "    history[\"train_acc\"].append(train_acc)\n",
    "    history[\"train_loss\"].append(train_loss)\n",
    "    history[\"val_acc\"].append(val_acc)\n",
    "    history[\"val_loss\"].append(val_loss)\n",
    "    \n",
    "    if val_acc > best_accuracy:\n",
    "        torch.save(model.state_dict(), \"best_model_state.bin\")\n",
    "        best_accuracy = val_acc"
   ]
  },
  {
   "cell_type": "code",
   "execution_count": 121,
   "id": "1e01d194",
   "metadata": {},
   "outputs": [
    {
     "data": {
      "image/png": "[encoded data removed]",
      "text/plain": [
       "<Figure size 1200x800 with 1 Axes>"
      ]
     },
     "metadata": {},
     "output_type": "display_data"
    }
   ],
   "source": [
    "# Plot training and validation accuracy\n",
    "plt.plot(\n",
    "    [acc.detach().cpu().item() for acc in history[\"train_acc\"]],\n",
    "    label='train accuracy'\n",
    "    )\n",
    "plt.plot(\n",
    "    [acc.detach().cpu().item() for acc in history[\"val_acc\"]],\n",
    "    label='validation accuracy'\n",
    "    )\n",
    "\n",
    "# Graph chars\n",
    "plt.title('Training history')\n",
    "plt.ylabel('Accuracy')\n",
    "plt.xlabel('Epoch')\n",
    "plt.legend()\n",
    "plt.ylim([0, 1]);"
   ]
  },
  {
   "cell_type": "code",
   "execution_count": 122,
   "id": "f3657d5a",
   "metadata": {},
   "outputs": [
    {
     "data": {
      "text/plain": [
       "0.9545454545454546"
      ]
     },
     "execution_count": 122,
     "metadata": {},
     "output_type": "execute_result"
    }
   ],
   "source": [
    "test_acc, _ = eval_model(\n",
    "  model,\n",
    "  test_dataloader,\n",
    "  loss_fn,\n",
    "  device,\n",
    "  len(df_test)\n",
    ")\n",
    "\n",
    "test_acc.item()"
   ]
  },
  {
   "cell_type": "markdown",
   "id": "b97b750e",
   "metadata": {},
   "source": [
    "## Walkthrough of Fine-Tuning BERT with PyTorch for Sentiment Analysis"
   ]
  },
  {
   "cell_type": "code",
   "execution_count": 86,
   "id": "2d217e58",
   "metadata": {},
   "outputs": [
    {
     "data": {
      "text/html": [
       "<div>\n",
       "<style scoped>\n",
       "    .dataframe tbody tr th:only-of-type {\n",
       "        vertical-align: middle;\n",
       "    }\n",
       "\n",
       "    .dataframe tbody tr th {\n",
       "        vertical-align: top;\n",
       "    }\n",
       "\n",
       "    .dataframe thead th {\n",
       "        text-align: right;\n",
       "    }\n",
       "</style>\n",
       "<table border=\"1\" class=\"dataframe\">\n",
       "  <thead>\n",
       "    <tr style=\"text-align: right;\">\n",
       "      <th></th>\n",
       "      <th>name</th>\n",
       "      <th>date</th>\n",
       "      <th>rating</th>\n",
       "      <th>review</th>\n",
       "    </tr>\n",
       "  </thead>\n",
       "  <tbody>\n",
       "    <tr>\n",
       "      <th>0</th>\n",
       "      <td>Ughduty</td>\n",
       "      <td>Jun 19, 2025</td>\n",
       "      <td>7</td>\n",
       "      <td>Never played the game. Metacritic assigned my ...</td>\n",
       "    </tr>\n",
       "    <tr>\n",
       "      <th>1</th>\n",
       "      <td>tarquinthegreat</td>\n",
       "      <td>Apr 28, 2025</td>\n",
       "      <td>10</td>\n",
       "      <td>absolutely banging ‎xxxxxxxxxxxxxxxxxxxxxxxxxx...</td>\n",
       "    </tr>\n",
       "    <tr>\n",
       "      <th>2</th>\n",
       "      <td>Gamewing</td>\n",
       "      <td>Apr 21, 2025</td>\n",
       "      <td>6</td>\n",
       "      <td>First couple hours are fun, getting your first...</td>\n",
       "    </tr>\n",
       "    <tr>\n",
       "      <th>3</th>\n",
       "      <td>Z4ry</td>\n",
       "      <td>Mar 24, 2025</td>\n",
       "      <td>9</td>\n",
       "      <td>100+ hours\\n- Great evolution from previous ti...</td>\n",
       "    </tr>\n",
       "    <tr>\n",
       "      <th>4</th>\n",
       "      <td>Lucaq</td>\n",
       "      <td>Mar 20, 2025</td>\n",
       "      <td>10</td>\n",
       "      <td>Perfect in every way.\\nAaaaaaaaaaaaaaaaaaaaaaa...</td>\n",
       "    </tr>\n",
       "    <tr>\n",
       "      <th>...</th>\n",
       "      <td>...</td>\n",
       "      <td>...</td>\n",
       "      <td>...</td>\n",
       "      <td>...</td>\n",
       "    </tr>\n",
       "    <tr>\n",
       "      <th>209</th>\n",
       "      <td>Autosaver</td>\n",
       "      <td>Jun 9, 2013</td>\n",
       "      <td>10</td>\n",
       "      <td>Animal Crossing has gone a long way since the ...</td>\n",
       "    </tr>\n",
       "    <tr>\n",
       "      <th>210</th>\n",
       "      <td>KirkyDaTurkey</td>\n",
       "      <td>Jun 9, 2013</td>\n",
       "      <td>9</td>\n",
       "      <td>Based on Day 1, this game is definitely a 9 so...</td>\n",
       "    </tr>\n",
       "    <tr>\n",
       "      <th>211</th>\n",
       "      <td>EFYevan</td>\n",
       "      <td>Jun 9, 2013</td>\n",
       "      <td>10</td>\n",
       "      <td>Much different than the previous DS version  I...</td>\n",
       "    </tr>\n",
       "    <tr>\n",
       "      <th>212</th>\n",
       "      <td>L0stR3negade</td>\n",
       "      <td>Jun 9, 2013</td>\n",
       "      <td>9</td>\n",
       "      <td>Refreshing style of game to play. Its hard to ...</td>\n",
       "    </tr>\n",
       "    <tr>\n",
       "      <th>213</th>\n",
       "      <td>setz</td>\n",
       "      <td>Jun 9, 2013</td>\n",
       "      <td>10</td>\n",
       "      <td>Finally an AC to dethrone the Gamecube version...</td>\n",
       "    </tr>\n",
       "  </tbody>\n",
       "</table>\n",
       "<p>214 rows × 4 columns</p>\n",
       "</div>"
      ],
      "text/plain": [
       "                name          date  rating  \\\n",
       "0            Ughduty  Jun 19, 2025       7   \n",
       "1    tarquinthegreat  Apr 28, 2025      10   \n",
       "2           Gamewing  Apr 21, 2025       6   \n",
       "3               Z4ry  Mar 24, 2025       9   \n",
       "4              Lucaq  Mar 20, 2025      10   \n",
       "..               ...           ...     ...   \n",
       "209        Autosaver   Jun 9, 2013      10   \n",
       "210    KirkyDaTurkey   Jun 9, 2013       9   \n",
       "211          EFYevan   Jun 9, 2013      10   \n",
       "212     L0stR3negade   Jun 9, 2013       9   \n",
       "213             setz   Jun 9, 2013      10   \n",
       "\n",
       "                                                review  \n",
       "0    Never played the game. Metacritic assigned my ...  \n",
       "1    absolutely banging ‎xxxxxxxxxxxxxxxxxxxxxxxxxx...  \n",
       "2    First couple hours are fun, getting your first...  \n",
       "3    100+ hours\\n- Great evolution from previous ti...  \n",
       "4    Perfect in every way.\\nAaaaaaaaaaaaaaaaaaaaaaa...  \n",
       "..                                                 ...  \n",
       "209  Animal Crossing has gone a long way since the ...  \n",
       "210  Based on Day 1, this game is definitely a 9 so...  \n",
       "211  Much different than the previous DS version  I...  \n",
       "212  Refreshing style of game to play. Its hard to ...  \n",
       "213  Finally an AC to dethrone the Gamecube version...  \n",
       "\n",
       "[214 rows x 4 columns]"
      ]
     },
     "execution_count": 86,
     "metadata": {},
     "output_type": "execute_result"
    }
   ],
   "source": [
    "## set up the data again\n",
    "# Graph Designs\n",
    "sns.set(style='whitegrid', palette='muted', font_scale=1.2)\n",
    "HAPPY_COLORS_PALETTE = [\"#01BEFE\", \"#FFDD00\", \"#FF7D00\", \"#FF006D\", \"#ADFF02\", \"#8F00FF\"]\n",
    "sns.set_palette(sns.color_palette(HAPPY_COLORS_PALETTE))\n",
    "rcParams['figure.figsize'] = 12, 8\n",
    "\n",
    "# set seed for reproducibility\n",
    "RANDOM_SEED = 42\n",
    "np.random.seed(RANDOM_SEED)\n",
    "torch.manual_seed(RANDOM_SEED)\n",
    "\n",
    "# agnostic code\n",
    "device = torch.device(\"cuda\" if torch.cuda.is_available() else \"cpu\")\n",
    "\n",
    "import pandas as pd\n",
    "from nltk.sentiment.vader import SentimentIntensityAnalyzer\n",
    "from nltk.corpus import stopwords\n",
    "from nltk.tokenize import word_tokenize\n",
    "from nltk.stem import WordNetLemmatizer\n",
    "\n",
    "df = pd.read_csv(r\"C:\\Users\\Philippa\\Documents\\GitHub\\webscraper\\Scraper\\NL_Parsed_Reviews.csv\")\n",
    "\n",
    "reviews_df = df.copy()\n",
    "reviews_df"
   ]
  },
  {
   "cell_type": "code",
   "execution_count": 34,
   "id": "fdbba22f",
   "metadata": {},
   "outputs": [
    {
     "data": {
      "image/png": "[encoded data removed]",
      "text/plain": [
       "<Figure size 1000x700 with 1 Axes>"
      ]
     },
     "metadata": {},
     "output_type": "display_data"
    }
   ],
   "source": [
    "plt.figure(figsize=(10,7))\n",
    "sns.countplot(reviews_df, x=\"rating\")\n",
    "plt.xlabel(\"Rating Score\")\n",
    "plt.show()"
   ]
  },
  {
   "cell_type": "code",
   "execution_count": 87,
   "id": "e66c8928",
   "metadata": {},
   "outputs": [
    {
     "data": {
      "text/html": [
       "<div>\n",
       "<style scoped>\n",
       "    .dataframe tbody tr th:only-of-type {\n",
       "        vertical-align: middle;\n",
       "    }\n",
       "\n",
       "    .dataframe tbody tr th {\n",
       "        vertical-align: top;\n",
       "    }\n",
       "\n",
       "    .dataframe thead th {\n",
       "        text-align: right;\n",
       "    }\n",
       "</style>\n",
       "<table border=\"1\" class=\"dataframe\">\n",
       "  <thead>\n",
       "    <tr style=\"text-align: right;\">\n",
       "      <th></th>\n",
       "      <th>name</th>\n",
       "      <th>date</th>\n",
       "      <th>rating</th>\n",
       "      <th>review</th>\n",
       "      <th>sentiment</th>\n",
       "    </tr>\n",
       "  </thead>\n",
       "  <tbody>\n",
       "    <tr>\n",
       "      <th>0</th>\n",
       "      <td>Ughduty</td>\n",
       "      <td>Jun 19, 2025</td>\n",
       "      <td>7</td>\n",
       "      <td>Never played the game. Metacritic assigned my ...</td>\n",
       "      <td>2</td>\n",
       "    </tr>\n",
       "    <tr>\n",
       "      <th>1</th>\n",
       "      <td>tarquinthegreat</td>\n",
       "      <td>Apr 28, 2025</td>\n",
       "      <td>10</td>\n",
       "      <td>absolutely banging ‎xxxxxxxxxxxxxxxxxxxxxxxxxx...</td>\n",
       "      <td>2</td>\n",
       "    </tr>\n",
       "    <tr>\n",
       "      <th>2</th>\n",
       "      <td>Gamewing</td>\n",
       "      <td>Apr 21, 2025</td>\n",
       "      <td>6</td>\n",
       "      <td>First couple hours are fun, getting your first...</td>\n",
       "      <td>1</td>\n",
       "    </tr>\n",
       "    <tr>\n",
       "      <th>3</th>\n",
       "      <td>Z4ry</td>\n",
       "      <td>Mar 24, 2025</td>\n",
       "      <td>9</td>\n",
       "      <td>100+ hours\\n- Great evolution from previous ti...</td>\n",
       "      <td>2</td>\n",
       "    </tr>\n",
       "    <tr>\n",
       "      <th>4</th>\n",
       "      <td>Lucaq</td>\n",
       "      <td>Mar 20, 2025</td>\n",
       "      <td>10</td>\n",
       "      <td>Perfect in every way.\\nAaaaaaaaaaaaaaaaaaaaaaa...</td>\n",
       "      <td>2</td>\n",
       "    </tr>\n",
       "  </tbody>\n",
       "</table>\n",
       "</div>"
      ],
      "text/plain": [
       "              name          date  rating  \\\n",
       "0          Ughduty  Jun 19, 2025       7   \n",
       "1  tarquinthegreat  Apr 28, 2025      10   \n",
       "2         Gamewing  Apr 21, 2025       6   \n",
       "3             Z4ry  Mar 24, 2025       9   \n",
       "4            Lucaq  Mar 20, 2025      10   \n",
       "\n",
       "                                              review  sentiment  \n",
       "0  Never played the game. Metacritic assigned my ...          2  \n",
       "1  absolutely banging ‎xxxxxxxxxxxxxxxxxxxxxxxxxx...          2  \n",
       "2  First couple hours are fun, getting your first...          1  \n",
       "3  100+ hours\\n- Great evolution from previous ti...          2  \n",
       "4  Perfect in every way.\\nAaaaaaaaaaaaaaaaaaaaaaa...          2  "
      ]
     },
     "execution_count": 87,
     "metadata": {},
     "output_type": "execute_result"
    }
   ],
   "source": [
    "# merge the data together to get sentiment scores\n",
    "def get_sentiment(rating):\n",
    "    if rating <= 4:\n",
    "        return 0 # negative sentiment\n",
    "    elif rating == 5 or rating == 6:\n",
    "        return 1 # neutral sentiment\n",
    "    else:\n",
    "        return 2 # positive sentiment\n",
    "    \n",
    "reviews_df[\"sentiment\"] = reviews_df[\"rating\"].apply(get_sentiment)\n",
    "reviews_df.head()"
   ]
  },
  {
   "cell_type": "code",
   "execution_count": 37,
   "id": "6f47ed5b",
   "metadata": {},
   "outputs": [
    {
     "data": {
      "image/png": "[encoded data removed]",
      "text/plain": [
       "<Figure size 1000x700 with 1 Axes>"
      ]
     },
     "metadata": {},
     "output_type": "display_data"
    }
   ],
   "source": [
    "plt.figure(figsize=(10,7))\n",
    "sns.countplot(reviews_df, x=\"sentiment\")\n",
    "plt.xticks([0, 1 ,2], [\"Negative\", \"Neutral\", \"Positive\"])\n",
    "plt.title(\"Sentiment\")\n",
    "plt.show()"
   ]
  },
  {
   "cell_type": "markdown",
   "id": "721941f6",
   "metadata": {},
   "source": [
    "### BERT Tokenizer\n",
    "\n",
    "Training a BERT model for sentiment analysis, a classification task in this case, the model will expect 2 inputs: token ids and attention masks.\n",
    "\n",
    "The hugging face library provides many functions that will handle these inputs.\n",
    "\n",
    "* Token IDs: an integar that represents a particular token.\n",
    "* Attention mask: A sequence of ones and zeroes to let the model know which token comes from an input sentence (segment ID = 1) and which are just a padding token (segment ID = 0).\n",
    "* Padding: When training BERT models, every input for the model needs to have the same size and same length of inputs to avoid any errors with back propagation. Padding enables the reviews to become the same size."
   ]
  },
  {
   "cell_type": "code",
   "execution_count": 88,
   "id": "4433608f",
   "metadata": {},
   "outputs": [
    {
     "name": "stdout",
     "output_type": "stream",
     "text": [
      "truly one of the best games on the 3Ds, i remember when i first picked this game up in 2013 i continued playing consistently for almost 5 years and i still find myself checking in on my villagers!\n",
      "============================================================\n",
      "['truly', 'one', 'of', 'the', 'best', 'games', 'on', 'the', '3D', '##s', ',', 'i', 'remember', 'when', 'i', 'first', 'picked', 'this', 'game', 'up', 'in', '2013', 'i', 'continued', 'playing', 'consistently', 'for', 'almost', '5', 'years', 'and', 'i', 'still', 'find', 'myself', 'checking', 'in', 'on', 'my', 'villagers', '!']\n",
      "============================================================\n",
      "[5098, 1141, 1104, 1103, 1436, 1638, 1113, 1103, 7860, 1116, 117, 178, 2676, 1165, 178, 1148, 3015, 1142, 1342, 1146, 1107, 1381, 178, 1598, 1773, 10887, 1111, 1593, 126, 1201, 1105, 178, 1253, 1525, 1991, 9444, 1107, 1113, 1139, 12453, 106]\n"
     ]
    }
   ],
   "source": [
    "bert_model_name = \"bert-base-cased\"\n",
    "tokenizer = transformers.BertTokenizer.from_pretrained(bert_model_name)\n",
    "\n",
    "# demonstrating the BERT tokenizer\n",
    "sample_text = \"truly one of the best games on the 3Ds, i remember when i first picked this game up in 2013 i continued playing consistently for almost 5 years and i still find myself checking in on my villagers!\"\n",
    "\n",
    "tokens = tokenizer.tokenize(sample_text)\n",
    "ids = tokenizer.convert_tokens_to_ids(tokens)\n",
    "print(f\"{sample_text}\")\n",
    "print(\"=\"*60)\n",
    "print(tokens)\n",
    "print(\"=\"*60)\n",
    "print(ids)"
   ]
  },
  {
   "cell_type": "code",
   "execution_count": 39,
   "id": "453a5ef6",
   "metadata": {},
   "outputs": [
    {
     "name": "stdout",
     "output_type": "stream",
     "text": [
      "[SEP] 102\n",
      "[CLS] 101\n",
      "[PAD] 0\n",
      "[UNK] 100\n"
     ]
    }
   ],
   "source": [
    "## Common BERT tokens\n",
    "print(tokenizer.sep_token, tokenizer.sep_token_id) # marker for ending of a sentence\n",
    "print(tokenizer.cls_token, tokenizer.cls_token_id) # start of each sentence, so BERT knows it's classification\n",
    "print(tokenizer.pad_token, tokenizer.pad_token_id) # special token for padding\n",
    "print(tokenizer.unk_token, tokenizer.unk_token_id) # tokens not found in training set"
   ]
  },
  {
   "cell_type": "markdown",
   "id": "bc2fb399",
   "metadata": {},
   "source": [
    "Hugging face library provides another function called `tokenizer.encode_plus()`, which will be used to perform most of the preprocessing steps in one go.\n",
    "\n",
    "It will:\n",
    "* Convert reviews into tokens\n",
    "* Add [CLS] tokens at the beginning of the input\n",
    "* Performs padding if sequence length is less than max_len\n",
    "* Performs truncation if sequence length is greather than max_len\n",
    "* Adds [SEP] token at the end of the sequence"
   ]
  },
  {
   "cell_type": "code",
   "execution_count": 48,
   "id": "8b7e6fb8",
   "metadata": {},
   "outputs": [],
   "source": [
    "encoding = tokenizer.encode_plus(\n",
    "    sample_text,\n",
    "    add_special_tokens=True,\n",
    "    max_length=128,\n",
    "    truncation=True,\n",
    "    return_token_type_ids=False,\n",
    "    padding=True,\n",
    "    return_attention_mask=True,\n",
    "    return_tensors=\"pt\"\n",
    ")"
   ]
  },
  {
   "cell_type": "code",
   "execution_count": 45,
   "id": "74fa61c1",
   "metadata": {},
   "outputs": [
    {
     "name": "stdout",
     "output_type": "stream",
     "text": [
      "torch.Size([1, 43])\n"
     ]
    },
    {
     "data": {
      "text/plain": [
       "tensor([[  101,  5098,  1141,  1104,  1103,  1436,  1638,  1113,  1103,  7860,\n",
       "          1116,   117,   178,  2676,  1165,   178,  1148,  3015,  1142,  1342,\n",
       "          1146,  1107,  1381,   178,  1598,  1773, 10887,  1111,  1593,   126,\n",
       "          1201,  1105,   178,  1253,  1525,  1991,  9444,  1107,  1113,  1139,\n",
       "         12453,   106,   102]])"
      ]
     },
     "execution_count": 45,
     "metadata": {},
     "output_type": "execute_result"
    }
   ],
   "source": [
    "print(encoding[\"input_ids\"].shape)\n",
    "encoding[\"input_ids\"]"
   ]
  },
  {
   "cell_type": "code",
   "execution_count": 46,
   "id": "04c58300",
   "metadata": {},
   "outputs": [
    {
     "name": "stdout",
     "output_type": "stream",
     "text": [
      "torch.Size([1, 43])\n"
     ]
    },
    {
     "data": {
      "text/plain": [
       "tensor([[1, 1, 1, 1, 1, 1, 1, 1, 1, 1, 1, 1, 1, 1, 1, 1, 1, 1, 1, 1, 1, 1, 1, 1,\n",
       "         1, 1, 1, 1, 1, 1, 1, 1, 1, 1, 1, 1, 1, 1, 1, 1, 1, 1, 1]])"
      ]
     },
     "execution_count": 46,
     "metadata": {},
     "output_type": "execute_result"
    }
   ],
   "source": [
    "print(encoding[\"attention_mask\"].shape)\n",
    "encoding[\"attention_mask\"]"
   ]
  },
  {
   "cell_type": "markdown",
   "id": "a6eb902d",
   "metadata": {},
   "source": [
    "### Deciding `max_len`"
   ]
  },
  {
   "cell_type": "code",
   "execution_count": 49,
   "id": "3c124963",
   "metadata": {},
   "outputs": [
    {
     "data": {
      "text/plain": [
       "<Figure size 1000x700 with 0 Axes>"
      ]
     },
     "metadata": {},
     "output_type": "display_data"
    },
    {
     "data": {
      "image/png": "[encoded data removed]",
      "text/plain": [
       "<Figure size 500x500 with 1 Axes>"
      ]
     },
     "metadata": {},
     "output_type": "display_data"
    }
   ],
   "source": [
    "# max length of sequence\n",
    "lengths = np.array([len(x.split()) for x in reviews_df.review])\n",
    "plt.figure(figsize=(10,7))\n",
    "sns.displot(lengths)\n",
    "plt.xlabel(\"Review Length\")\n",
    "plt.title(\"Distribution of review lengths\")\n",
    "plt.show()"
   ]
  },
  {
   "cell_type": "markdown",
   "id": "7ff23f63",
   "metadata": {},
   "source": [
    "Optimal max length can be set to around 400. The max_len value should be set to a number that covers most of the reviews without truncation."
   ]
  },
  {
   "cell_type": "markdown",
   "id": "277dc5a2",
   "metadata": {},
   "source": [
    "### Training, Test, and Validation Test Split"
   ]
  },
  {
   "cell_type": "code",
   "execution_count": 89,
   "id": "769e6e37",
   "metadata": {},
   "outputs": [
    {
     "name": "stdout",
     "output_type": "stream",
     "text": [
      "(171, 5) (22, 5) (21, 5)\n"
     ]
    }
   ],
   "source": [
    "# 80% of data will be used for training the model, remaining 20% will be divided equally between validation and testing data\n",
    "from sklearn.model_selection import train_test_split\n",
    "\n",
    "train_df, test_df = train_test_split(reviews_df, test_size=0.2, random_state=RANDOM_SEED, shuffle=True)\n",
    "val_df, test_df = train_test_split(test_df, test_size=0.5, random_state=RANDOM_SEED, shuffle=True)\n",
    "\n",
    "print(train_df.shape, test_df.shape, val_df.shape)"
   ]
  },
  {
   "cell_type": "code",
   "execution_count": null,
   "id": "05718c71",
   "metadata": {},
   "outputs": [],
   "source": [
    "class MetaCriticReview(Dataset):\n",
    "    def __init__(self, review, target, tokenizer, max_len):\n",
    "        self.review = review\n",
    "        self.target = target\n",
    "        self.tokenizer = tokenizer\n",
    "        self.max_len = max_len\n",
    "        \n",
    "    def __len__(self):\n",
    "        return len(self.review)\n",
    "    \n",
    "    def __getitem__(self, index):\n",
    "        review = str(self.review[index])\n",
    "        target = self.target[index]\n",
    "        \n",
    "        \n",
    "        encoding = self.tokenizer.encode_plus(\n",
    "            review,\n",
    "            add_special_tokens=True,\n",
    "            max_length=400,\n",
    "            truncation=True,\n",
    "            return_token_type_ids=False,\n",
    "            padding=\"max_length\",\n",
    "            truncation=True,\n",
    "            return_attention_mask=True,\n",
    "            return_tensors=\"pt\"\n",
    "        )\n",
    "        \n",
    "        return {\"review_text\": review,\n",
    "                \"input_ids\": encoding[\"input_ids\"].flatten(),\n",
    "                \"attention_mask\": encoding[\"attention_mask\"].flatten(),\n",
    "                \"targets\": torch.tensor(target, dtype=torch.long)\n",
    "                }"
   ]
  },
  {
   "cell_type": "code",
   "execution_count": 63,
   "id": "25465b34",
   "metadata": {},
   "outputs": [],
   "source": [
    "## Create class variable training data, validation data, and test data\n",
    "tokenizer = transformers.BertTokenizer.from_pretrained(bert_model_name)\n",
    "MAX_LEN = 400\n",
    "\n",
    "training_data = MetaCriticReview(review = train_df.review.to_numpy(),\n",
    "                                 target = train_df.sentiment.to_numpy(),\n",
    "                                 tokenizer = tokenizer,\n",
    "                                 max_len = MAX_LEN)\n",
    "\n",
    "validation_data = MetaCriticReview(review = val_df.review.to_numpy(),\n",
    "                                   target = val_df.sentiment.to_numpy(),\n",
    "                                   tokenizer=tokenizer,\n",
    "                                   max_len=MAX_LEN)\n",
    "\n",
    "test_data = MetaCriticReview(review = test_df.review.to_numpy(),\n",
    "                             target = test_df.sentiment.to_numpy(),\n",
    "                             tokenizer=tokenizer,\n",
    "                             max_len=MAX_LEN)"
   ]
  },
  {
   "cell_type": "code",
   "execution_count": 59,
   "id": "6cdc5d05",
   "metadata": {},
   "outputs": [
    {
     "name": "stdout",
     "output_type": "stream",
     "text": [
      "171 21 22\n"
     ]
    }
   ],
   "source": [
    "print(len(training_data), len(validation_data), len(test_data))"
   ]
  },
  {
   "cell_type": "code",
   "execution_count": 64,
   "id": "37300409",
   "metadata": {},
   "outputs": [],
   "source": [
    "# DataLoader\n",
    "BATCH_SIZE = 5\n",
    "train_loader = DataLoader(training_data, batch_size=BATCH_SIZE, shuffle=True)\n",
    "val_loader = DataLoader(validation_data, batch_size=BATCH_SIZE, shuffle=False)\n",
    "test_loader = DataLoader(test_data, batch_size=BATCH_SIZE, shuffle=False)"
   ]
  },
  {
   "cell_type": "code",
   "execution_count": 65,
   "id": "b42ac1aa",
   "metadata": {},
   "outputs": [
    {
     "data": {
      "text/plain": [
       "dict_keys(['review', 'input_id', 'attention_mask', 'target'])"
      ]
     },
     "execution_count": 65,
     "metadata": {},
     "output_type": "execute_result"
    }
   ],
   "source": [
    "sample_batch = next(iter(train_loader))\n",
    "sample_batch.keys()"
   ]
  },
  {
   "cell_type": "code",
   "execution_count": 66,
   "id": "1e69b06d",
   "metadata": {},
   "outputs": [
    {
     "name": "stdout",
     "output_type": "stream",
     "text": [
      "Animal Crossing New Leaf is an enjoyable and adorable game, mimicking real life actions and routines, with fun, and creative fictional animal based-characters to interact and talk with. It's an addicting game and is for every age; without including violence.\n",
      "tensor([  101, 10854, 16188,  1203, 21901,  1110,  1126, 24815,  1105, 27627,\n",
      "         1342,   117, 27180,  4419,  1842,  1297,  3721,  1105, 27393,   117,\n",
      "         1114,  4106,   117,  1105,  6228,  6725,  3724,  1359,   118,  2650,\n",
      "         1106, 12254,  1105,  2037,  1114,   119,  1135,   112,   188,  1126,\n",
      "         5194, 17882,  1158,  1342,  1105,  1110,  1111,  1451,  1425,   132,\n",
      "         1443,  1259,  4289,   119,   102,     0,     0,     0,     0,     0,\n",
      "            0,     0,     0,     0,     0,     0,     0,     0,     0,     0,\n",
      "            0,     0,     0,     0,     0,     0,     0,     0,     0,     0,\n",
      "            0,     0,     0,     0,     0,     0,     0,     0,     0,     0,\n",
      "            0,     0,     0,     0,     0,     0,     0,     0,     0,     0,\n",
      "            0,     0,     0,     0,     0,     0,     0,     0,     0,     0,\n",
      "            0,     0,     0,     0,     0,     0,     0,     0,     0,     0,\n",
      "            0,     0,     0,     0,     0,     0,     0,     0,     0,     0,\n",
      "            0,     0,     0,     0,     0,     0,     0,     0,     0,     0,\n",
      "            0,     0,     0,     0,     0,     0,     0,     0,     0,     0,\n",
      "            0,     0,     0,     0,     0,     0,     0,     0,     0,     0,\n",
      "            0,     0,     0,     0,     0,     0,     0,     0,     0,     0,\n",
      "            0,     0,     0,     0,     0,     0,     0,     0,     0,     0,\n",
      "            0,     0,     0,     0,     0,     0,     0,     0,     0,     0,\n",
      "            0,     0,     0,     0,     0,     0,     0,     0,     0,     0,\n",
      "            0,     0,     0,     0,     0,     0,     0,     0,     0,     0,\n",
      "            0,     0,     0,     0,     0,     0,     0,     0,     0,     0,\n",
      "            0,     0,     0,     0,     0,     0,     0,     0,     0,     0,\n",
      "            0,     0,     0,     0,     0,     0,     0,     0,     0,     0,\n",
      "            0,     0,     0,     0,     0,     0,     0,     0,     0,     0,\n",
      "            0,     0,     0,     0,     0,     0,     0,     0,     0,     0,\n",
      "            0,     0,     0,     0,     0,     0,     0,     0,     0,     0,\n",
      "            0,     0,     0,     0,     0,     0,     0,     0,     0,     0,\n",
      "            0,     0,     0,     0,     0,     0,     0,     0,     0,     0,\n",
      "            0,     0,     0,     0,     0,     0,     0,     0,     0,     0,\n",
      "            0,     0,     0,     0,     0,     0,     0,     0,     0,     0,\n",
      "            0,     0,     0,     0,     0,     0,     0,     0,     0,     0,\n",
      "            0,     0,     0,     0,     0,     0,     0,     0,     0,     0,\n",
      "            0,     0,     0,     0,     0,     0,     0,     0,     0,     0,\n",
      "            0,     0,     0,     0,     0,     0,     0,     0,     0,     0,\n",
      "            0,     0,     0,     0,     0,     0,     0,     0,     0,     0,\n",
      "            0,     0,     0,     0,     0,     0,     0,     0,     0,     0,\n",
      "            0,     0,     0,     0,     0,     0,     0,     0,     0,     0,\n",
      "            0,     0,     0,     0,     0,     0,     0,     0,     0,     0,\n",
      "            0,     0,     0,     0,     0,     0,     0,     0,     0,     0])\n",
      "tensor([1, 1, 1, 1, 1, 1, 1, 1, 1, 1, 1, 1, 1, 1, 1, 1, 1, 1, 1, 1, 1, 1, 1, 1,\n",
      "        1, 1, 1, 1, 1, 1, 1, 1, 1, 1, 1, 1, 1, 1, 1, 1, 1, 1, 1, 1, 1, 1, 1, 1,\n",
      "        1, 1, 1, 1, 1, 1, 1, 0, 0, 0, 0, 0, 0, 0, 0, 0, 0, 0, 0, 0, 0, 0, 0, 0,\n",
      "        0, 0, 0, 0, 0, 0, 0, 0, 0, 0, 0, 0, 0, 0, 0, 0, 0, 0, 0, 0, 0, 0, 0, 0,\n",
      "        0, 0, 0, 0, 0, 0, 0, 0, 0, 0, 0, 0, 0, 0, 0, 0, 0, 0, 0, 0, 0, 0, 0, 0,\n",
      "        0, 0, 0, 0, 0, 0, 0, 0, 0, 0, 0, 0, 0, 0, 0, 0, 0, 0, 0, 0, 0, 0, 0, 0,\n",
      "        0, 0, 0, 0, 0, 0, 0, 0, 0, 0, 0, 0, 0, 0, 0, 0, 0, 0, 0, 0, 0, 0, 0, 0,\n",
      "        0, 0, 0, 0, 0, 0, 0, 0, 0, 0, 0, 0, 0, 0, 0, 0, 0, 0, 0, 0, 0, 0, 0, 0,\n",
      "        0, 0, 0, 0, 0, 0, 0, 0, 0, 0, 0, 0, 0, 0, 0, 0, 0, 0, 0, 0, 0, 0, 0, 0,\n",
      "        0, 0, 0, 0, 0, 0, 0, 0, 0, 0, 0, 0, 0, 0, 0, 0, 0, 0, 0, 0, 0, 0, 0, 0,\n",
      "        0, 0, 0, 0, 0, 0, 0, 0, 0, 0, 0, 0, 0, 0, 0, 0, 0, 0, 0, 0, 0, 0, 0, 0,\n",
      "        0, 0, 0, 0, 0, 0, 0, 0, 0, 0, 0, 0, 0, 0, 0, 0, 0, 0, 0, 0, 0, 0, 0, 0,\n",
      "        0, 0, 0, 0, 0, 0, 0, 0, 0, 0, 0, 0, 0, 0, 0, 0, 0, 0, 0, 0, 0, 0, 0, 0,\n",
      "        0, 0, 0, 0, 0, 0, 0, 0, 0, 0, 0, 0, 0, 0, 0, 0, 0, 0, 0, 0, 0, 0, 0, 0,\n",
      "        0, 0, 0, 0, 0, 0, 0, 0, 0, 0, 0, 0, 0, 0, 0, 0, 0, 0, 0, 0, 0, 0, 0, 0,\n",
      "        0, 0, 0, 0, 0, 0, 0, 0, 0, 0, 0, 0, 0, 0, 0, 0, 0, 0, 0, 0, 0, 0, 0, 0,\n",
      "        0, 0, 0, 0, 0, 0, 0, 0, 0, 0, 0, 0, 0, 0, 0, 0])\n",
      "tensor(2)\n",
      "==================================================\n",
      "torch.Size([5, 400]) torch.Size([5, 400]) torch.Size([5])\n"
     ]
    }
   ],
   "source": [
    "print(sample_batch[\"review\"][0])\n",
    "print(sample_batch[\"input_id\"][0])\n",
    "print(sample_batch[\"attention_mask\"][0])\n",
    "print(sample_batch[\"target\"][0])\n",
    "print(\"=\"*50)\n",
    "print(sample_batch[\"input_id\"].shape, sample_batch[\"attention_mask\"].shape, sample_batch[\"target\"].shape)"
   ]
  },
  {
   "cell_type": "code",
   "execution_count": 69,
   "id": "df902be8",
   "metadata": {},
   "outputs": [
    {
     "name": "stdout",
     "output_type": "stream",
     "text": [
      "Last hidden layer size for input as batch torch.Size([5, 400, 768])\n",
      "Pooled output size for input as batch torch.Size([5, 768])\n"
     ]
    }
   ],
   "source": [
    "# Load BERT base model\n",
    "\n",
    "bert_model_name = \"bert-base-cased\"\n",
    "bert_model = BertModel.from_pretrained(bert_model_name)\n",
    "\n",
    "# test the output of bert model\n",
    "X = bert_model(sample_batch[\"input_id\"].view(BATCH_SIZE, MAX_LEN),\n",
    "               sample_batch[\"attention_mask\"].view(BATCH_SIZE, MAX_LEN))\n",
    "\n",
    "print(\"Last hidden layer size for input as batch\", X[0].shape)\n",
    "print(\"Pooled output size for input as batch\", X[1].shape)"
   ]
  },
  {
   "cell_type": "code",
   "execution_count": 70,
   "id": "8dde75a9",
   "metadata": {},
   "outputs": [],
   "source": [
    "## Build model\n",
    "# pass input into the model --> review ids and attention mask\n",
    "class SentimentClassifier(nn.Module):\n",
    "    def __init__(self, num_classes):\n",
    "        super(SentimentClassifier, self).__init__()\n",
    "        self.bert = BertModel.from_pretrained(bert_model_name)\n",
    "        self.dropout = nn.Dropout(p=0.3)\n",
    "        self.linear = nn.Linear(self.bert.config.hidden_size, num_classes)\n",
    "        self.softmax = nn.Softmax(dim=1)\n",
    "        \n",
    "    def forward(self, input_ids, attention_mask):\n",
    "        temp = self.bert(input_ids, attention_mask)\n",
    "        pooled_output = temp[1]\n",
    "        out = self.dropout(pooled_output)\n",
    "        out = self.linear(out)\n",
    "        return out"
   ]
  },
  {
   "cell_type": "code",
   "execution_count": 72,
   "id": "71973330",
   "metadata": {},
   "outputs": [
    {
     "data": {
      "text/plain": [
       "(tensor([[0.2936, 0.2559, 0.4505],\n",
       "         [0.5294, 0.1755, 0.2951],\n",
       "         [0.2544, 0.2626, 0.4831],\n",
       "         [0.2652, 0.2556, 0.4791],\n",
       "         [0.1992, 0.3348, 0.4660]], grad_fn=<SoftmaxBackward0>),\n",
       " torch.Size([5, 3]))"
      ]
     },
     "execution_count": 72,
     "metadata": {},
     "output_type": "execute_result"
    }
   ],
   "source": [
    "num_classes = 3\n",
    "model = SentimentClassifier(num_classes)\n",
    "\n",
    "sample_linear_output = model(sample_batch[\"input_id\"],\n",
    "                             sample_batch[\"attention_mask\"])\n",
    "\n",
    "s = nn.Softmax(dim=1)\n",
    "final_out = s(sample_linear_output)\n",
    "final_out, final_out.shape"
   ]
  },
  {
   "cell_type": "markdown",
   "id": "9c76abd5",
   "metadata": {},
   "source": [
    "Now that the sample batch has shown that the model works, I can define the loss function, optimizer, and scheduler (modifies the learning rate after each iteration to speed up convergence.)"
   ]
  },
  {
   "cell_type": "code",
   "execution_count": 75,
   "id": "10b65973",
   "metadata": {},
   "outputs": [],
   "source": [
    "# loss and optimizer \n",
    "EPOCHS = 20\n",
    "total_steps = len(train_loader) * EPOCHS\n",
    "\n",
    "loss_fn = torch.nn.CrossEntropyLoss()\n",
    "\n",
    "optimizer = transformers.Adafactor(params=model.parameters(), lr=0.01, relative_step=False)\n",
    "\n",
    "scheduler = transformers.get_linear_schedule_with_warmup(optimizer=optimizer,\n",
    "                                                         num_warmup_steps=0,\n",
    "                                                         num_training_steps=total_steps)"
   ]
  },
  {
   "cell_type": "code",
   "execution_count": 83,
   "id": "3906c7d7",
   "metadata": {},
   "outputs": [],
   "source": [
    "def train_model(model, \n",
    "                data_loader,\n",
    "                loss_fn,\n",
    "                optimizer,\n",
    "                scheduler,\n",
    "                BATCH_SIZE,\n",
    "                MAX_LEN,\n",
    "                n_examples):\n",
    "    \n",
    "    # put model in training mode\n",
    "    model.train()\n",
    "    train_loss = []\n",
    "    correct_pred = 0\n",
    "    \n",
    "    for d in data_loader:\n",
    "        input_ids = d[\"input_id\"]\n",
    "        attention_masks = d[\"attention_mask\"]\n",
    "        targets = d[\"target\"]\n",
    "        \n",
    "        # forward pass\n",
    "        preds = model(input_ids, attention_masks)\n",
    "        loss = loss_fn(preds, targets)\n",
    "        _, pred_classes = torch.max(preds, dim=1)\n",
    "        \n",
    "        loss.backward()\n",
    "        nn.utils.clip_grad_norm_(model.parameters(), max_norm=1.0)\n",
    "        optimizer.step()\n",
    "        scheduler.step()\n",
    "        optimizer.zero_grad()\n",
    "        \n",
    "        # training loss and number of correct predictions\n",
    "        train_loss.append(loss.item())\n",
    "        correct_pred += torch.sum(pred_classes==targets)\n",
    "        \n",
    "    return correct_pred / n_examples, np.mean(train_loss)"
   ]
  },
  {
   "cell_type": "code",
   "execution_count": 84,
   "id": "1e7c8eb1",
   "metadata": {},
   "outputs": [],
   "source": [
    "def eval_model(model,\n",
    "               data_loader,\n",
    "               loss_fn,\n",
    "               BATCH_SIZE,\n",
    "               MAX_LEN,\n",
    "               n_examples):\n",
    "    model.eval()\n",
    "    eval_loss = []\n",
    "    correct_pred = 0\n",
    "    \n",
    "    with torch.inference_mode():\n",
    "        for d in data_loader:\n",
    "            input_ids = d[\"input_id\"]\n",
    "            attention_masks = d[\"attention_mask\"]\n",
    "            targets = d[\"target\"]\n",
    "            \n",
    "            # forward pass\n",
    "            preds = model(input_ids, attention_masks)\n",
    "            loss = loss_fn(preds, targets)\n",
    "            _, pred_classes = torch.max(preds, dim=1)\n",
    "            \n",
    "            eval_loss.append(loss.item())\n",
    "            correct_pred += torch.sum(pred_classes==targets)\n",
    "            \n",
    "    return correct_pred / n_examples, np.mean(eval_loss)"
   ]
  },
  {
   "cell_type": "code",
   "execution_count": null,
   "id": "cdcd6f96",
   "metadata": {},
   "outputs": [],
   "source": []
  }
 ],
 "metadata": {
  "kernelspec": {
   "display_name": "base",
   "language": "python",
   "name": "python3"
  },
  "language_info": {
   "codemirror_mode": {
    "name": "ipython",
    "version": 3
   },
   "file_extension": ".py",
   "mimetype": "text/x-python",
   "name": "python",
   "nbconvert_exporter": "python",
   "pygments_lexer": "ipython3",
   "version": "3.12.3"
  }
 },
 "nbformat": 4,
 "nbformat_minor": 5
}

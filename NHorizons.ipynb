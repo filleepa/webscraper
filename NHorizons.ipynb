{
 "cells": [
  {
   "cell_type": "code",
   "execution_count": 11,
   "metadata": {},
   "outputs": [],
   "source": [
    "from selenium import webdriver\n",
    "from selenium.webdriver.chrome.service import Service\n",
    "from selenium.webdriver.common.by import By\n",
    "from selenium.webdriver.support.ui import WebDriverWait\n",
    "from selenium.webdriver.support import expected_conditions as EC\n",
    "from selenium.webdriver.common.action_chains import ActionChains\n",
    "from webdriver_manager.chrome import ChromeDriverManager #Automatically manages ChromeDriver\n",
    "from bs4 import BeautifulSoup\n",
    "import pandas as pd\n",
    "import time\n",
    "\n",
    "# ChromeDriver set up with Service\n",
    "service = Service(ChromeDriverManager().install())\n",
    "driver = webdriver.Chrome(service=service)\n",
    "\n",
    "url = 'https://www.metacritic.com/game/animal-crossing-new-horizons/user-reviews/'\n",
    "driver.get(url)\n",
    "\n",
    "#Create a dictionary so that all the parsed data can be stored\n",
    "review_dict = {'name':[], 'date':[], 'rating':[], 'review':[]}\n",
    "\n",
    "SCROLL_PAUSE_TIME = 5\n",
    "\n",
    "def parse_reviews(soup):\n",
    "    for review in soup.find_all('div', class_='c-siteReview_main'):\n",
    "        try:\n",
    "            review_dict['name'].append(review.find('a', class_='c-siteReviewHeader_username').text.strip())\n",
    "        except AttributeError:\n",
    "            review_dict['name'].append(None)\n",
    "\n",
    "        try:\n",
    "            review_dict['date'].append(review.find('div', class_='c-siteReviewHeader_reviewDate').text.strip())\n",
    "        except AttributeError:\n",
    "            review_dict['date'].append(None)\n",
    "\n",
    "        try:\n",
    "            review_dict['rating'].append(review.find('div', class_='c-siteReviewHeader_reviewScore').find_all('div')[0].text)\n",
    "        except AttributeError:\n",
    "            review_dict['rating'].append(None)\n",
    "        \n",
    "        #Check if there's a read more button for spoilers\n",
    "        quote_div = review.find('div', class_='c-siteReview_quote')\n",
    "        if quote_div and quote_div.find('span') and '[SPOILER ALERT' in quote_div.find('span').text:\n",
    "            # Click the \"Read More\" button to open the full review\n",
    "            try:\n",
    "                link = review.find('a', string='Read More')\n",
    "                if link:\n",
    "                    link_element = driver.find_element(By.XPATH, '//*[@id=\"__layout\"]/div/div[2]/div[1]/div[1]/section/div[6]/div[8]/div/div[1]/div[2]/div[2]/button')\n",
    "                    link_element.click()   \n",
    "\n",
    "                    WebDriverWait(driver, 5).until(EC.visibility_of_element_located((By.XPATH, \"/html/body/div[5]\"))\n",
    "                    )\n",
    "\n",
    "                    # Get the full review from the modal\n",
    "                    expanded_soup = BeautifulSoup(driver.page_source, 'html.parser')\n",
    "\n",
    "                    for popReview in expanded_soup.find_all('div', class_='c-globalModal'):\n",
    "                        review_dict['name'].append(popReview.find('a', class_='c-siteReviewHeader_username').text.strip())\n",
    "\n",
    "                        review_dict['date'].append(popReview.find('div', class_='c-siteReviewHeader_reviewDate').text)\n",
    "\n",
    "                        review_dict['rating'].append(popReview.find('div', class_='c-siteReviewScore').find('span').text)\n",
    "\n",
    "                        review_dict['review'].append(popReview.find('div', class_='c-siteReviewReadMore_wrapper').text.strip())\n",
    "                else:\n",
    "                    review_dict['review'].append(None)\n",
    "            except Exception as e:\n",
    "                print(f\"Error with 'Read More' button: {e}\")\n",
    "                review_dict['review'].append(None)\n",
    "\n",
    "        else:\n",
    "            try:\n",
    "                review_text = review.find('div', class_='c-siteReview_quote').find('span').text.strip()\n",
    "                review_dict['review'].append(review_text)\n",
    "            except AttributeError:\n",
    "                review_dict['review'].append(None)\n"
   ]
  },
  {
   "cell_type": "code",
   "execution_count": 12,
   "metadata": {},
   "outputs": [],
   "source": [
    "#Get initial height of the page\n",
    "last_height = driver.execute_script(\"return document.body.scrollHeight\")\n",
    "\n",
    "#Scroll and load dynamic content, allowing it to pause and load after each scroll\n",
    "while True:\n",
    "    soup = BeautifulSoup(driver.page_source, 'html.parser')\n",
    "    parse_reviews(soup)\n",
    "\n",
    "    driver.execute_script(\"window.scrollTo(0, document.body.scrollHeight);\")\n",
    "    \n",
    "    #Wait to load more content\n",
    "    time.sleep(SCROLL_PAUSE_TIME)\n",
    "    \n",
    "    #Calculate new scroll height and compare it with the last scroll height\n",
    "    new_height = driver.execute_script(\"return document.body.scrollHeight\")\n",
    "    if new_height == last_height:\n",
    "        break  #Break the loop if no more new content is loaded (end of page)\n",
    "    last_height = new_height"
   ]
  },
  {
   "cell_type": "code",
   "execution_count": 13,
   "metadata": {},
   "outputs": [
    {
     "data": {
      "text/plain": [
       "(166020, 4)"
      ]
     },
     "execution_count": 13,
     "metadata": {},
     "output_type": "execute_result"
    }
   ],
   "source": [
    "NHorizonReviews = pd.DataFrame(review_dict)\n",
    "\n",
    "NHorizonReviews.shape"
   ]
  },
  {
   "cell_type": "code",
   "execution_count": 14,
   "metadata": {},
   "outputs": [],
   "source": [
    "NHorizonReviews.to_csv('NHReviews.csv', index=False)"
   ]
  },
  {
   "cell_type": "code",
   "execution_count": 15,
   "metadata": {},
   "outputs": [],
   "source": [
    "driver.quit()"
   ]
  }
 ],
 "metadata": {
  "kernelspec": {
   "display_name": "Python 3",
   "language": "python",
   "name": "python3"
  },
  "language_info": {
   "codemirror_mode": {
    "name": "ipython",
    "version": 3
   },
   "file_extension": ".py",
   "mimetype": "text/x-python",
   "name": "python",
   "nbconvert_exporter": "python",
   "pygments_lexer": "ipython3",
   "version": "3.12.6"
  }
 },
 "nbformat": 4,
 "nbformat_minor": 2
}
